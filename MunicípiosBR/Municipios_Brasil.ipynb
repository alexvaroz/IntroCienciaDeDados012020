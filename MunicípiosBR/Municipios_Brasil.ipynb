{
 "cells": [
  {
   "cell_type": "markdown",
   "metadata": {},
   "source": [
    "# Exercícios - Introdução ao PANDAS"
   ]
  },
  {
   "cell_type": "markdown",
   "metadata": {},
   "source": [
    "Neste notebook utilizaremos um dataset com informações sobre os municípios brasileiros. Os dados foram obtidos de http://blog.mds.gov.br/redesuas/lista-de-municipios-brasileiros/ ."
   ]
  },
  {
   "cell_type": "code",
   "execution_count": 1,
   "metadata": {},
   "outputs": [],
   "source": [
    "# Importação das bibliotecas\n",
    "import pandas as pd\n",
    "pd.options.display.float_format = '{:.2f}'.format"
   ]
  },
  {
   "cell_type": "code",
   "execution_count": 2,
   "metadata": {},
   "outputs": [],
   "source": [
    "# Carregamento do dataframe a partir de um arquivo .csv\n",
    "df = pd.read_csv('Lista_Municipios_com_IBGE_Brasil.csv', sep=';', encoding='latin-1' )"
   ]
  },
  {
   "cell_type": "markdown",
   "metadata": {},
   "source": [
    "### Comandos para o primeiro contato com uma base: "
   ]
  },
  {
   "cell_type": "code",
   "execution_count": 3,
   "metadata": {},
   "outputs": [
    {
     "data": {
      "text/html": [
       "<div>\n",
       "<style scoped>\n",
       "    .dataframe tbody tr th:only-of-type {\n",
       "        vertical-align: middle;\n",
       "    }\n",
       "\n",
       "    .dataframe tbody tr th {\n",
       "        vertical-align: top;\n",
       "    }\n",
       "\n",
       "    .dataframe thead th {\n",
       "        text-align: right;\n",
       "    }\n",
       "</style>\n",
       "<table border=\"1\" class=\"dataframe\">\n",
       "  <thead>\n",
       "    <tr style=\"text-align: right;\">\n",
       "      <th></th>\n",
       "      <th>IBGE</th>\n",
       "      <th>UF</th>\n",
       "      <th>Município</th>\n",
       "      <th>Região</th>\n",
       "      <th>População 2010</th>\n",
       "      <th>Porte</th>\n",
       "      <th>Capital</th>\n",
       "    </tr>\n",
       "  </thead>\n",
       "  <tbody>\n",
       "    <tr>\n",
       "      <th>0</th>\n",
       "      <td>110001</td>\n",
       "      <td>RO</td>\n",
       "      <td>Alta Floresta D´oeste</td>\n",
       "      <td>Região Norte</td>\n",
       "      <td>24392.00</td>\n",
       "      <td>Pequeno II</td>\n",
       "      <td>NaN</td>\n",
       "    </tr>\n",
       "    <tr>\n",
       "      <th>1</th>\n",
       "      <td>110002</td>\n",
       "      <td>RO</td>\n",
       "      <td>Ariquemes</td>\n",
       "      <td>Região Norte</td>\n",
       "      <td>90353.00</td>\n",
       "      <td>Médio</td>\n",
       "      <td>NaN</td>\n",
       "    </tr>\n",
       "    <tr>\n",
       "      <th>2</th>\n",
       "      <td>110003</td>\n",
       "      <td>RO</td>\n",
       "      <td>Cabixi</td>\n",
       "      <td>Região Norte</td>\n",
       "      <td>6313.00</td>\n",
       "      <td>Pequeno I</td>\n",
       "      <td>NaN</td>\n",
       "    </tr>\n",
       "    <tr>\n",
       "      <th>3</th>\n",
       "      <td>110004</td>\n",
       "      <td>RO</td>\n",
       "      <td>Cacoal</td>\n",
       "      <td>Região Norte</td>\n",
       "      <td>78574.00</td>\n",
       "      <td>Médio</td>\n",
       "      <td>NaN</td>\n",
       "    </tr>\n",
       "    <tr>\n",
       "      <th>4</th>\n",
       "      <td>110005</td>\n",
       "      <td>RO</td>\n",
       "      <td>Cerejeiras</td>\n",
       "      <td>Região Norte</td>\n",
       "      <td>17029.00</td>\n",
       "      <td>Pequeno I</td>\n",
       "      <td>NaN</td>\n",
       "    </tr>\n",
       "  </tbody>\n",
       "</table>\n",
       "</div>"
      ],
      "text/plain": [
       "     IBGE  UF              Município        Região  População 2010  \\\n",
       "0  110001  RO  Alta Floresta D´oeste  Região Norte        24392.00   \n",
       "1  110002  RO              Ariquemes  Região Norte        90353.00   \n",
       "2  110003  RO                 Cabixi  Região Norte         6313.00   \n",
       "3  110004  RO                 Cacoal  Região Norte        78574.00   \n",
       "4  110005  RO             Cerejeiras  Região Norte        17029.00   \n",
       "\n",
       "        Porte Capital  \n",
       "0  Pequeno II     NaN  \n",
       "1       Médio     NaN  \n",
       "2   Pequeno I     NaN  \n",
       "3       Médio     NaN  \n",
       "4   Pequeno I     NaN  "
      ]
     },
     "execution_count": 3,
     "metadata": {},
     "output_type": "execute_result"
    }
   ],
   "source": [
    "df.head()"
   ]
  },
  {
   "cell_type": "code",
   "execution_count": 4,
   "metadata": {},
   "outputs": [
    {
     "data": {
      "text/plain": [
       "(5570, 7)"
      ]
     },
     "execution_count": 4,
     "metadata": {},
     "output_type": "execute_result"
    }
   ],
   "source": [
    "df.shape"
   ]
  },
  {
   "cell_type": "code",
   "execution_count": 5,
   "metadata": {},
   "outputs": [
    {
     "data": {
      "text/plain": [
       "IBGE                int64\n",
       "UF                 object\n",
       "Município          object\n",
       "Região             object\n",
       "População 2010    float64\n",
       "Porte              object\n",
       "Capital            object\n",
       "dtype: object"
      ]
     },
     "execution_count": 5,
     "metadata": {},
     "output_type": "execute_result"
    }
   ],
   "source": [
    "df.dtypes"
   ]
  },
  {
   "cell_type": "code",
   "execution_count": 6,
   "metadata": {},
   "outputs": [
    {
     "data": {
      "text/html": [
       "<div>\n",
       "<style scoped>\n",
       "    .dataframe tbody tr th:only-of-type {\n",
       "        vertical-align: middle;\n",
       "    }\n",
       "\n",
       "    .dataframe tbody tr th {\n",
       "        vertical-align: top;\n",
       "    }\n",
       "\n",
       "    .dataframe thead th {\n",
       "        text-align: right;\n",
       "    }\n",
       "</style>\n",
       "<table border=\"1\" class=\"dataframe\">\n",
       "  <thead>\n",
       "    <tr style=\"text-align: right;\">\n",
       "      <th></th>\n",
       "      <th>IBGE</th>\n",
       "      <th>População 2010</th>\n",
       "    </tr>\n",
       "  </thead>\n",
       "  <tbody>\n",
       "    <tr>\n",
       "      <th>count</th>\n",
       "      <td>5570.00</td>\n",
       "      <td>5565.00</td>\n",
       "    </tr>\n",
       "    <tr>\n",
       "      <th>mean</th>\n",
       "      <td>325358.63</td>\n",
       "      <td>34277.77</td>\n",
       "    </tr>\n",
       "    <tr>\n",
       "      <th>std</th>\n",
       "      <td>98491.03</td>\n",
       "      <td>203112.62</td>\n",
       "    </tr>\n",
       "    <tr>\n",
       "      <th>min</th>\n",
       "      <td>110001.00</td>\n",
       "      <td>805.00</td>\n",
       "    </tr>\n",
       "    <tr>\n",
       "      <th>25%</th>\n",
       "      <td>251212.50</td>\n",
       "      <td>5235.00</td>\n",
       "    </tr>\n",
       "    <tr>\n",
       "      <th>50%</th>\n",
       "      <td>314627.50</td>\n",
       "      <td>10934.00</td>\n",
       "    </tr>\n",
       "    <tr>\n",
       "      <th>75%</th>\n",
       "      <td>411918.75</td>\n",
       "      <td>23424.00</td>\n",
       "    </tr>\n",
       "    <tr>\n",
       "      <th>max</th>\n",
       "      <td>530010.00</td>\n",
       "      <td>11253503.00</td>\n",
       "    </tr>\n",
       "  </tbody>\n",
       "</table>\n",
       "</div>"
      ],
      "text/plain": [
       "           IBGE  População 2010\n",
       "count   5570.00         5565.00\n",
       "mean  325358.63        34277.77\n",
       "std    98491.03       203112.62\n",
       "min   110001.00          805.00\n",
       "25%   251212.50         5235.00\n",
       "50%   314627.50        10934.00\n",
       "75%   411918.75        23424.00\n",
       "max   530010.00     11253503.00"
      ]
     },
     "execution_count": 6,
     "metadata": {},
     "output_type": "execute_result"
    }
   ],
   "source": [
    "df.describe()"
   ]
  },
  {
   "cell_type": "markdown",
   "metadata": {},
   "source": [
    "### Hora de botar a mão na massa!!!"
   ]
  },
  {
   "cell_type": "markdown",
   "metadata": {},
   "source": [
    "Tente responder às seguintes questões:\n",
    "1. Quantos estados estão presentes na base?\n",
    "- Listar os municípios de Alagoas.\n",
    "- Qual estado possui mais municípios?\n",
    "- Qual a região possui mais municípios?\n",
    "- Quais os 10 municípios com maior população?\n",
    "- Quais os 10 municípios com maior população no estado da Bahia?\n",
    "- Qual o município com menor população no país?\n",
    "- Qual o valor médio de população por estado?\n",
    "- Quais são os valores possíveis na coluna \"Porte\"?\n",
    "- Qual a média de população por cada tipo de porte de município?\n",
    "- O que quer informar a coluna \"Capital\"?\n",
    "- Listar as Capitais.\n",
    "- Qual a distribuição de porte de municípios na região Sul? E na região Norte?\n"
   ]
  },
  {
   "cell_type": "code",
   "execution_count": 11,
   "metadata": {},
   "outputs": [
    {
     "data": {
      "text/plain": [
       "27"
      ]
     },
     "execution_count": 11,
     "metadata": {},
     "output_type": "execute_result"
    }
   ],
   "source": [
    "# 1. Quantos estados estão presentes na base?"
   ]
  },
  {
   "cell_type": "code",
   "execution_count": 32,
   "metadata": {},
   "outputs": [
    {
     "data": {
      "text/plain": [
       "array(['Água Branca', 'Anadia', 'Arapiraca', 'Atalaia',\n",
       "       'Barra de Santo Antônio', 'Barra de São Miguel', 'Batalha',\n",
       "       'Belém', 'Belo Monte', 'Boca da Mata', 'Branquinha', 'Cacimbinhas',\n",
       "       'Cajueiro', 'Campestre', 'Campo Alegre', 'Campo Grande', 'Canapi',\n",
       "       'Capela', 'Carneiros', 'Chã Preta', 'Coité do Nóia',\n",
       "       'Colônia Leopoldina', 'Coqueiro Seco', 'Coruripe', 'Craíbas',\n",
       "       'Delmiro Gouveia', 'Dois Riachos', 'Estrela de Alagoas',\n",
       "       'Feira Grande', 'Feliz Deserto', 'Flexeiras', 'Girau do Ponciano',\n",
       "       'Ibateguara', 'Igaci', 'Igreja Nova', 'Inhapi',\n",
       "       'Jacaré Dos Homens', 'Jacuípe', 'Japaratinga', 'Jaramataia',\n",
       "       'Jequiá da Praia', 'Joaquim Gomes', 'Jundiá', 'Junqueiro',\n",
       "       'Lagoa da Canoa', 'Limoeiro de Anadia', 'Maceió', 'Major Isidoro',\n",
       "       'Maragogi', 'Maravilha', 'Marechal Deodoro', 'Maribondo',\n",
       "       'Mar Vermelho', 'Mata Grande', 'Matriz de Camaragibe', 'Messias',\n",
       "       'Minador do Negrão', 'Monteirópolis', 'Murici', 'Novo Lino',\n",
       "       'Olho D´água Das Flores', 'Olho D´água do Casado',\n",
       "       'Olho D´água Grande', 'Olivença', 'Ouro Branco', 'Palestina',\n",
       "       'Palmeira Dos Índios', 'Pão de Açúcar', 'Pariconha', 'Paripueira',\n",
       "       'Passo de Camaragibe', 'Paulo Jacinto', 'Penedo', 'Piaçabuçu',\n",
       "       'Pilar', 'Pindoba', 'Piranhas', 'Poço Das Trincheiras',\n",
       "       'Porto Calvo', 'Porto de Pedras', 'Porto Real do Colégio',\n",
       "       'Quebrangulo', 'Rio Largo', 'Roteiro', 'Santa Luzia do Norte',\n",
       "       'Santana do Ipanema', 'Santana do Mundaú', 'São Brás',\n",
       "       'São José da Laje', 'São José da Tapera', 'São Luís do Quitunde',\n",
       "       'São Miguel Dos Campos', 'São Miguel Dos Milagres',\n",
       "       'São Sebastião', 'Satuba', 'Senador Rui Palmeira', 'Tanque D´arca',\n",
       "       'Taquarana', 'Teotônio Vilela', 'Traipu', 'União Dos Palmares',\n",
       "       'Viçosa'], dtype=object)"
      ]
     },
     "execution_count": 32,
     "metadata": {},
     "output_type": "execute_result"
    }
   ],
   "source": [
    "# 2. Listar os municípios de Alagoas.\n",
    "df"
   ]
  },
  {
   "cell_type": "code",
   "execution_count": null,
   "metadata": {},
   "outputs": [],
   "source": []
  },
  {
   "cell_type": "code",
   "execution_count": null,
   "metadata": {},
   "outputs": [],
   "source": []
  },
  {
   "cell_type": "code",
   "execution_count": null,
   "metadata": {},
   "outputs": [],
   "source": []
  },
  {
   "cell_type": "code",
   "execution_count": null,
   "metadata": {},
   "outputs": [],
   "source": []
  },
  {
   "cell_type": "code",
   "execution_count": 52,
   "metadata": {},
   "outputs": [
    {
     "data": {
      "text/plain": [
       "Porte\n",
       "Grande        234375.17\n",
       "Metrópole    2476051.88\n",
       "Médio          68659.09\n",
       "Pequeno I       8344.47\n",
       "Pequeno II     30052.42\n",
       "Name: População 2010, dtype: float64"
      ]
     },
     "execution_count": 52,
     "metadata": {},
     "output_type": "execute_result"
    }
   ],
   "source": [
    "# 10. Qual a média de população por cada tipo de porte de município?\n",
    "df.groupby(['Porte'])[\"População 2010\"].mean()"
   ]
  },
  {
   "cell_type": "code",
   "execution_count": null,
   "metadata": {},
   "outputs": [],
   "source": []
  }
 ],
 "metadata": {
  "kernelspec": {
   "display_name": "Python 3",
   "language": "python",
   "name": "python3"
  },
  "language_info": {
   "codemirror_mode": {
    "name": "ipython",
    "version": 3
   },
   "file_extension": ".py",
   "mimetype": "text/x-python",
   "name": "python",
   "nbconvert_exporter": "python",
   "pygments_lexer": "ipython3",
   "version": "3.6.8"
  }
 },
 "nbformat": 4,
 "nbformat_minor": 2
}
