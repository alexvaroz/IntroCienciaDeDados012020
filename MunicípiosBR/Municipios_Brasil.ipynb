{
 "cells": [
  {
   "cell_type": "markdown",
   "metadata": {},
   "source": [
    "# Exercícios - Introdução ao PANDAS"
   ]
  },
  {
   "cell_type": "markdown",
   "metadata": {},
   "source": [
    "Neste notebook utilizaremos um dataset com informações sobre os municípios brasileiros. Os dados foram obtidos de http://blog.mds.gov.br/redesuas/lista-de-municipios-brasileiros/ ."
   ]
  },
  {
   "cell_type": "code",
   "execution_count": 1,
   "metadata": {},
   "outputs": [],
   "source": [
    "# Importação das bibliotecas\n",
    "import pandas as pd\n",
    "pd.options.display.float_format = '{:.2f}'.format"
   ]
  },
  {
   "cell_type": "code",
   "execution_count": 3,
   "metadata": {},
   "outputs": [],
   "source": [
    "# Carregamento do dataframe a partir de um arquivo .csv\n",
    "df = pd.read_csv('Lista_Municipios_com_IBGE_Brasil.csv', sep=';', encoding='latin-1' )"
   ]
  },
  {
   "cell_type": "markdown",
   "metadata": {},
   "source": [
    "### Comandos para o primeiro contato com uma base: "
   ]
  },
  {
   "cell_type": "code",
   "execution_count": 6,
   "metadata": {},
   "outputs": [
    {
     "data": {
      "text/html": [
       "<div>\n",
       "<style scoped>\n",
       "    .dataframe tbody tr th:only-of-type {\n",
       "        vertical-align: middle;\n",
       "    }\n",
       "\n",
       "    .dataframe tbody tr th {\n",
       "        vertical-align: top;\n",
       "    }\n",
       "\n",
       "    .dataframe thead th {\n",
       "        text-align: right;\n",
       "    }\n",
       "</style>\n",
       "<table border=\"1\" class=\"dataframe\">\n",
       "  <thead>\n",
       "    <tr style=\"text-align: right;\">\n",
       "      <th></th>\n",
       "      <th>IBGE</th>\n",
       "      <th>UF</th>\n",
       "      <th>Município</th>\n",
       "      <th>Região</th>\n",
       "      <th>População 2010</th>\n",
       "      <th>Porte</th>\n",
       "      <th>Capital</th>\n",
       "    </tr>\n",
       "  </thead>\n",
       "  <tbody>\n",
       "    <tr>\n",
       "      <th>0</th>\n",
       "      <td>110001</td>\n",
       "      <td>RO</td>\n",
       "      <td>Alta Floresta D´oeste</td>\n",
       "      <td>Região Norte</td>\n",
       "      <td>24392.00</td>\n",
       "      <td>Pequeno II</td>\n",
       "      <td>NaN</td>\n",
       "    </tr>\n",
       "    <tr>\n",
       "      <th>1</th>\n",
       "      <td>110002</td>\n",
       "      <td>RO</td>\n",
       "      <td>Ariquemes</td>\n",
       "      <td>Região Norte</td>\n",
       "      <td>90353.00</td>\n",
       "      <td>Médio</td>\n",
       "      <td>NaN</td>\n",
       "    </tr>\n",
       "    <tr>\n",
       "      <th>2</th>\n",
       "      <td>110003</td>\n",
       "      <td>RO</td>\n",
       "      <td>Cabixi</td>\n",
       "      <td>Região Norte</td>\n",
       "      <td>6313.00</td>\n",
       "      <td>Pequeno I</td>\n",
       "      <td>NaN</td>\n",
       "    </tr>\n",
       "    <tr>\n",
       "      <th>3</th>\n",
       "      <td>110004</td>\n",
       "      <td>RO</td>\n",
       "      <td>Cacoal</td>\n",
       "      <td>Região Norte</td>\n",
       "      <td>78574.00</td>\n",
       "      <td>Médio</td>\n",
       "      <td>NaN</td>\n",
       "    </tr>\n",
       "    <tr>\n",
       "      <th>4</th>\n",
       "      <td>110005</td>\n",
       "      <td>RO</td>\n",
       "      <td>Cerejeiras</td>\n",
       "      <td>Região Norte</td>\n",
       "      <td>17029.00</td>\n",
       "      <td>Pequeno I</td>\n",
       "      <td>NaN</td>\n",
       "    </tr>\n",
       "  </tbody>\n",
       "</table>\n",
       "</div>"
      ],
      "text/plain": [
       "     IBGE  UF              Município        Região  População 2010  \\\n",
       "0  110001  RO  Alta Floresta D´oeste  Região Norte        24392.00   \n",
       "1  110002  RO              Ariquemes  Região Norte        90353.00   \n",
       "2  110003  RO                 Cabixi  Região Norte         6313.00   \n",
       "3  110004  RO                 Cacoal  Região Norte        78574.00   \n",
       "4  110005  RO             Cerejeiras  Região Norte        17029.00   \n",
       "\n",
       "        Porte Capital  \n",
       "0  Pequeno II     NaN  \n",
       "1       Médio     NaN  \n",
       "2   Pequeno I     NaN  \n",
       "3       Médio     NaN  \n",
       "4   Pequeno I     NaN  "
      ]
     },
     "execution_count": 6,
     "metadata": {},
     "output_type": "execute_result"
    }
   ],
   "source": [
    "df.head() # mostrar as primeiras linhas do Dataframe"
   ]
  },
  {
   "cell_type": "code",
   "execution_count": 7,
   "metadata": {},
   "outputs": [
    {
     "data": {
      "text/plain": [
       "(5570, 7)"
      ]
     },
     "execution_count": 7,
     "metadata": {},
     "output_type": "execute_result"
    }
   ],
   "source": [
    "df.shape #quantas linhas e quantas colunas"
   ]
  },
  {
   "cell_type": "code",
   "execution_count": 8,
   "metadata": {},
   "outputs": [
    {
     "data": {
      "text/plain": [
       "Index(['IBGE', 'UF', 'Município', 'Região', 'População 2010', 'Porte',\n",
       "       'Capital'],\n",
       "      dtype='object')"
      ]
     },
     "execution_count": 8,
     "metadata": {},
     "output_type": "execute_result"
    }
   ],
   "source": [
    "df.columns"
   ]
  },
  {
   "cell_type": "code",
   "execution_count": 6,
   "metadata": {},
   "outputs": [
    {
     "data": {
      "text/html": [
       "<div>\n",
       "<style scoped>\n",
       "    .dataframe tbody tr th:only-of-type {\n",
       "        vertical-align: middle;\n",
       "    }\n",
       "\n",
       "    .dataframe tbody tr th {\n",
       "        vertical-align: top;\n",
       "    }\n",
       "\n",
       "    .dataframe thead th {\n",
       "        text-align: right;\n",
       "    }\n",
       "</style>\n",
       "<table border=\"1\" class=\"dataframe\">\n",
       "  <thead>\n",
       "    <tr style=\"text-align: right;\">\n",
       "      <th></th>\n",
       "      <th>IBGE</th>\n",
       "      <th>População 2010</th>\n",
       "    </tr>\n",
       "  </thead>\n",
       "  <tbody>\n",
       "    <tr>\n",
       "      <th>count</th>\n",
       "      <td>5570.00</td>\n",
       "      <td>5565.00</td>\n",
       "    </tr>\n",
       "    <tr>\n",
       "      <th>mean</th>\n",
       "      <td>325358.63</td>\n",
       "      <td>34277.77</td>\n",
       "    </tr>\n",
       "    <tr>\n",
       "      <th>std</th>\n",
       "      <td>98491.03</td>\n",
       "      <td>203112.62</td>\n",
       "    </tr>\n",
       "    <tr>\n",
       "      <th>min</th>\n",
       "      <td>110001.00</td>\n",
       "      <td>805.00</td>\n",
       "    </tr>\n",
       "    <tr>\n",
       "      <th>25%</th>\n",
       "      <td>251212.50</td>\n",
       "      <td>5235.00</td>\n",
       "    </tr>\n",
       "    <tr>\n",
       "      <th>50%</th>\n",
       "      <td>314627.50</td>\n",
       "      <td>10934.00</td>\n",
       "    </tr>\n",
       "    <tr>\n",
       "      <th>75%</th>\n",
       "      <td>411918.75</td>\n",
       "      <td>23424.00</td>\n",
       "    </tr>\n",
       "    <tr>\n",
       "      <th>max</th>\n",
       "      <td>530010.00</td>\n",
       "      <td>11253503.00</td>\n",
       "    </tr>\n",
       "  </tbody>\n",
       "</table>\n",
       "</div>"
      ],
      "text/plain": [
       "           IBGE  População 2010\n",
       "count   5570.00         5565.00\n",
       "mean  325358.63        34277.77\n",
       "std    98491.03       203112.62\n",
       "min   110001.00          805.00\n",
       "25%   251212.50         5235.00\n",
       "50%   314627.50        10934.00\n",
       "75%   411918.75        23424.00\n",
       "max   530010.00     11253503.00"
      ]
     },
     "execution_count": 6,
     "metadata": {},
     "output_type": "execute_result"
    }
   ],
   "source": [
    "df.describe()"
   ]
  },
  {
   "cell_type": "code",
   "execution_count": 15,
   "metadata": {},
   "outputs": [
    {
     "data": {
      "text/html": [
       "<div>\n",
       "<style scoped>\n",
       "    .dataframe tbody tr th:only-of-type {\n",
       "        vertical-align: middle;\n",
       "    }\n",
       "\n",
       "    .dataframe tbody tr th {\n",
       "        vertical-align: top;\n",
       "    }\n",
       "\n",
       "    .dataframe thead th {\n",
       "        text-align: right;\n",
       "    }\n",
       "</style>\n",
       "<table border=\"1\" class=\"dataframe\">\n",
       "  <thead>\n",
       "    <tr style=\"text-align: right;\">\n",
       "      <th></th>\n",
       "      <th>IBGE</th>\n",
       "      <th>UF</th>\n",
       "      <th>Município</th>\n",
       "      <th>Região</th>\n",
       "      <th>População 2010</th>\n",
       "      <th>Porte</th>\n",
       "      <th>Capital</th>\n",
       "    </tr>\n",
       "  </thead>\n",
       "  <tbody>\n",
       "    <tr>\n",
       "      <th>224</th>\n",
       "      <td>150475</td>\n",
       "      <td>PA</td>\n",
       "      <td>Mojuí dos Campos</td>\n",
       "      <td>Região Norte</td>\n",
       "      <td>nan</td>\n",
       "      <td>Pequeno I</td>\n",
       "      <td>NaN</td>\n",
       "    </tr>\n",
       "    <tr>\n",
       "      <th>4503</th>\n",
       "      <td>421265</td>\n",
       "      <td>SC</td>\n",
       "      <td>Pescaria Brava</td>\n",
       "      <td>Região Sul</td>\n",
       "      <td>nan</td>\n",
       "      <td>Pequeno I</td>\n",
       "      <td>NaN</td>\n",
       "    </tr>\n",
       "    <tr>\n",
       "      <th>4605</th>\n",
       "      <td>422000</td>\n",
       "      <td>SC</td>\n",
       "      <td>Balneário Rincão</td>\n",
       "      <td>Região Sul</td>\n",
       "      <td>nan</td>\n",
       "      <td>Pequeno I</td>\n",
       "      <td>NaN</td>\n",
       "    </tr>\n",
       "    <tr>\n",
       "      <th>4923</th>\n",
       "      <td>431454</td>\n",
       "      <td>RS</td>\n",
       "      <td>Pinto Bandeira</td>\n",
       "      <td>Região Sul</td>\n",
       "      <td>nan</td>\n",
       "      <td>Pequeno I</td>\n",
       "      <td>NaN</td>\n",
       "    </tr>\n",
       "    <tr>\n",
       "      <th>5160</th>\n",
       "      <td>500627</td>\n",
       "      <td>MS</td>\n",
       "      <td>Paraíso das Águas</td>\n",
       "      <td>Região Centro-Oeste</td>\n",
       "      <td>nan</td>\n",
       "      <td>Pequeno I</td>\n",
       "      <td>NaN</td>\n",
       "    </tr>\n",
       "  </tbody>\n",
       "</table>\n",
       "</div>"
      ],
      "text/plain": [
       "        IBGE  UF          Município               Região  População 2010  \\\n",
       "224   150475  PA   Mojuí dos Campos         Região Norte             nan   \n",
       "4503  421265  SC     Pescaria Brava           Região Sul             nan   \n",
       "4605  422000  SC   Balneário Rincão           Região Sul             nan   \n",
       "4923  431454  RS     Pinto Bandeira           Região Sul             nan   \n",
       "5160  500627  MS  Paraíso das Águas  Região Centro-Oeste             nan   \n",
       "\n",
       "          Porte Capital  \n",
       "224   Pequeno I     NaN  \n",
       "4503  Pequeno I     NaN  \n",
       "4605  Pequeno I     NaN  \n",
       "4923  Pequeno I     NaN  \n",
       "5160  Pequeno I     NaN  "
      ]
     },
     "execution_count": 15,
     "metadata": {},
     "output_type": "execute_result"
    }
   ],
   "source": [
    "df[df['População 2010'].isna()]"
   ]
  },
  {
   "cell_type": "markdown",
   "metadata": {},
   "source": [
    "### Hora de botar a mão na massa!!!"
   ]
  },
  {
   "cell_type": "markdown",
   "metadata": {},
   "source": [
    "Tente responder às seguintes questões:\n",
    "1. Quantos estados estão presentes na base?\n",
    "- Listar os municípios de Alagoas.\n",
    "- Qual estado possui mais municípios?\n",
    "- Qual a região possui mais municípios?\n",
    "- Quais os 10 municípios com maior população?\n",
    "- Quais os 10 municípios com maior população no estado da Bahia?\n",
    "- Qual o município com menor população no país?\n",
    "- Qual o valor médio de população por estado?\n",
    "- Quais são os valores possíveis na coluna \"Porte\"?\n",
    "- Qual a média de população por cada tipo de porte de município?\n",
    "- O que quer informar a coluna \"Capital\"?\n",
    "- Listar as Capitais.\n",
    "- Qual a distribuição de porte de municípios na região Sul? E na região Norte?\n"
   ]
  },
  {
   "cell_type": "code",
   "execution_count": 19,
   "metadata": {},
   "outputs": [
    {
     "data": {
      "text/plain": [
       "27"
      ]
     },
     "execution_count": 19,
     "metadata": {},
     "output_type": "execute_result"
    }
   ],
   "source": [
    "# 1. Quantos estados estão presentes na base?\n",
    "df['UF'].nunique()"
   ]
  },
  {
   "cell_type": "code",
   "execution_count": 29,
   "metadata": {},
   "outputs": [
    {
     "data": {
      "text/plain": [
       "array(['Água Branca', 'Anadia', 'Arapiraca', 'Atalaia',\n",
       "       'Barra de Santo Antônio', 'Barra de São Miguel', 'Batalha',\n",
       "       'Belém', 'Belo Monte', 'Boca da Mata', 'Branquinha', 'Cacimbinhas',\n",
       "       'Cajueiro', 'Campestre', 'Campo Alegre', 'Campo Grande', 'Canapi',\n",
       "       'Capela', 'Carneiros', 'Chã Preta', 'Coité do Nóia',\n",
       "       'Colônia Leopoldina', 'Coqueiro Seco', 'Coruripe', 'Craíbas',\n",
       "       'Delmiro Gouveia', 'Dois Riachos', 'Estrela de Alagoas',\n",
       "       'Feira Grande', 'Feliz Deserto', 'Flexeiras', 'Girau do Ponciano',\n",
       "       'Ibateguara', 'Igaci', 'Igreja Nova', 'Inhapi',\n",
       "       'Jacaré Dos Homens', 'Jacuípe', 'Japaratinga', 'Jaramataia',\n",
       "       'Jequiá da Praia', 'Joaquim Gomes', 'Jundiá', 'Junqueiro',\n",
       "       'Lagoa da Canoa', 'Limoeiro de Anadia', 'Maceió', 'Major Isidoro',\n",
       "       'Maragogi', 'Maravilha', 'Marechal Deodoro', 'Maribondo',\n",
       "       'Mar Vermelho', 'Mata Grande', 'Matriz de Camaragibe', 'Messias',\n",
       "       'Minador do Negrão', 'Monteirópolis', 'Murici', 'Novo Lino',\n",
       "       'Olho D´água Das Flores', 'Olho D´água do Casado',\n",
       "       'Olho D´água Grande', 'Olivença', 'Ouro Branco', 'Palestina',\n",
       "       'Palmeira Dos Índios', 'Pão de Açúcar', 'Pariconha', 'Paripueira',\n",
       "       'Passo de Camaragibe', 'Paulo Jacinto', 'Penedo', 'Piaçabuçu',\n",
       "       'Pilar', 'Pindoba', 'Piranhas', 'Poço Das Trincheiras',\n",
       "       'Porto Calvo', 'Porto de Pedras', 'Porto Real do Colégio',\n",
       "       'Quebrangulo', 'Rio Largo', 'Roteiro', 'Santa Luzia do Norte',\n",
       "       'Santana do Ipanema', 'Santana do Mundaú', 'São Brás',\n",
       "       'São José da Laje', 'São José da Tapera', 'São Luís do Quitunde',\n",
       "       'São Miguel Dos Campos', 'São Miguel Dos Milagres',\n",
       "       'São Sebastião', 'Satuba', 'Senador Rui Palmeira', 'Tanque D´arca',\n",
       "       'Taquarana', 'Teotônio Vilela', 'Traipu', 'União Dos Palmares',\n",
       "       'Viçosa'], dtype=object)"
      ]
     },
     "execution_count": 29,
     "metadata": {},
     "output_type": "execute_result"
    }
   ],
   "source": [
    "# 2. Listar os municípios de Alagoas.\n",
    "df[df['UF'] == 'AL']['Município'].values"
   ]
  },
  {
   "cell_type": "code",
   "execution_count": 33,
   "metadata": {},
   "outputs": [
    {
     "data": {
      "text/plain": [
       "'MG'"
      ]
     },
     "execution_count": 33,
     "metadata": {},
     "output_type": "execute_result"
    }
   ],
   "source": [
    "# 3- Estado que possui mais municípios\n",
    "df['UF'].value_counts().index[0]"
   ]
  },
  {
   "cell_type": "code",
   "execution_count": 35,
   "metadata": {},
   "outputs": [
    {
     "data": {
      "text/plain": [
       "'Região Nordeste'"
      ]
     },
     "execution_count": 35,
     "metadata": {},
     "output_type": "execute_result"
    }
   ],
   "source": [
    "#4 - Qual a região possui mais municípios?\n",
    "df['Região'].value_counts().index[0]"
   ]
  },
  {
   "cell_type": "code",
   "execution_count": 39,
   "metadata": {},
   "outputs": [
    {
     "data": {
      "text/html": [
       "<div>\n",
       "<style scoped>\n",
       "    .dataframe tbody tr th:only-of-type {\n",
       "        vertical-align: middle;\n",
       "    }\n",
       "\n",
       "    .dataframe tbody tr th {\n",
       "        vertical-align: top;\n",
       "    }\n",
       "\n",
       "    .dataframe thead th {\n",
       "        text-align: right;\n",
       "    }\n",
       "</style>\n",
       "<table border=\"1\" class=\"dataframe\">\n",
       "  <thead>\n",
       "    <tr style=\"text-align: right;\">\n",
       "      <th></th>\n",
       "      <th>IBGE</th>\n",
       "      <th>UF</th>\n",
       "      <th>Município</th>\n",
       "      <th>Região</th>\n",
       "      <th>População 2010</th>\n",
       "      <th>Porte</th>\n",
       "      <th>Capital</th>\n",
       "    </tr>\n",
       "  </thead>\n",
       "  <tbody>\n",
       "    <tr>\n",
       "      <th>3829</th>\n",
       "      <td>355030</td>\n",
       "      <td>SP</td>\n",
       "      <td>São Paulo</td>\n",
       "      <td>Região Sudeste</td>\n",
       "      <td>11253503.00</td>\n",
       "      <td>Metrópole</td>\n",
       "      <td>Capital</td>\n",
       "    </tr>\n",
       "    <tr>\n",
       "      <th>3242</th>\n",
       "      <td>330455</td>\n",
       "      <td>RJ</td>\n",
       "      <td>Rio de Janeiro</td>\n",
       "      <td>Região Sudeste</td>\n",
       "      <td>6320446.00</td>\n",
       "      <td>Metrópole</td>\n",
       "      <td>Capital</td>\n",
       "    </tr>\n",
       "    <tr>\n",
       "      <th>2162</th>\n",
       "      <td>292740</td>\n",
       "      <td>BA</td>\n",
       "      <td>Salvador</td>\n",
       "      <td>Região Nordeste</td>\n",
       "      <td>2675656.00</td>\n",
       "      <td>Metrópole</td>\n",
       "      <td>Capital</td>\n",
       "    </tr>\n",
       "    <tr>\n",
       "      <th>5569</th>\n",
       "      <td>530010</td>\n",
       "      <td>DF</td>\n",
       "      <td>Brasília</td>\n",
       "      <td>Região Centro-Oeste</td>\n",
       "      <td>2570160.00</td>\n",
       "      <td>Metrópole</td>\n",
       "      <td>Capital</td>\n",
       "    </tr>\n",
       "    <tr>\n",
       "      <th>949</th>\n",
       "      <td>230440</td>\n",
       "      <td>CE</td>\n",
       "      <td>Fortaleza</td>\n",
       "      <td>Região Nordeste</td>\n",
       "      <td>2452185.00</td>\n",
       "      <td>Metrópole</td>\n",
       "      <td>Capital</td>\n",
       "    </tr>\n",
       "    <tr>\n",
       "      <th>2309</th>\n",
       "      <td>310620</td>\n",
       "      <td>MG</td>\n",
       "      <td>Belo Horizonte</td>\n",
       "      <td>Região Sudeste</td>\n",
       "      <td>2375151.00</td>\n",
       "      <td>Metrópole</td>\n",
       "      <td>Capital</td>\n",
       "    </tr>\n",
       "    <tr>\n",
       "      <th>111</th>\n",
       "      <td>130260</td>\n",
       "      <td>AM</td>\n",
       "      <td>Manaus</td>\n",
       "      <td>Região Norte</td>\n",
       "      <td>1802014.00</td>\n",
       "      <td>Metrópole</td>\n",
       "      <td>Capital</td>\n",
       "    </tr>\n",
       "    <tr>\n",
       "      <th>4005</th>\n",
       "      <td>410690</td>\n",
       "      <td>PR</td>\n",
       "      <td>Curitiba</td>\n",
       "      <td>Região Sul</td>\n",
       "      <td>1751907.00</td>\n",
       "      <td>Metrópole</td>\n",
       "      <td>Capital</td>\n",
       "    </tr>\n",
       "    <tr>\n",
       "      <th>1596</th>\n",
       "      <td>261160</td>\n",
       "      <td>PE</td>\n",
       "      <td>Recife</td>\n",
       "      <td>Região Nordeste</td>\n",
       "      <td>1537704.00</td>\n",
       "      <td>Metrópole</td>\n",
       "      <td>Capital</td>\n",
       "    </tr>\n",
       "    <tr>\n",
       "      <th>4931</th>\n",
       "      <td>431490</td>\n",
       "      <td>RS</td>\n",
       "      <td>Porto Alegre</td>\n",
       "      <td>Região Sul</td>\n",
       "      <td>1409351.00</td>\n",
       "      <td>Metrópole</td>\n",
       "      <td>Capital</td>\n",
       "    </tr>\n",
       "  </tbody>\n",
       "</table>\n",
       "</div>"
      ],
      "text/plain": [
       "        IBGE  UF       Município               Região  População 2010  \\\n",
       "3829  355030  SP       São Paulo       Região Sudeste     11253503.00   \n",
       "3242  330455  RJ  Rio de Janeiro       Região Sudeste      6320446.00   \n",
       "2162  292740  BA        Salvador      Região Nordeste      2675656.00   \n",
       "5569  530010  DF        Brasília  Região Centro-Oeste      2570160.00   \n",
       "949   230440  CE       Fortaleza      Região Nordeste      2452185.00   \n",
       "2309  310620  MG  Belo Horizonte       Região Sudeste      2375151.00   \n",
       "111   130260  AM          Manaus         Região Norte      1802014.00   \n",
       "4005  410690  PR        Curitiba           Região Sul      1751907.00   \n",
       "1596  261160  PE          Recife      Região Nordeste      1537704.00   \n",
       "4931  431490  RS    Porto Alegre           Região Sul      1409351.00   \n",
       "\n",
       "          Porte  Capital  \n",
       "3829  Metrópole  Capital  \n",
       "3242  Metrópole  Capital  \n",
       "2162  Metrópole  Capital  \n",
       "5569  Metrópole  Capital  \n",
       "949   Metrópole  Capital  \n",
       "2309  Metrópole  Capital  \n",
       "111   Metrópole  Capital  \n",
       "4005  Metrópole  Capital  \n",
       "1596  Metrópole  Capital  \n",
       "4931  Metrópole  Capital  "
      ]
     },
     "execution_count": 39,
     "metadata": {},
     "output_type": "execute_result"
    }
   ],
   "source": [
    "#5 - Quais os 10 municípios com maior população?\n",
    "df.sort_values(by = 'População 2010', ascending = False).head(10)"
   ]
  },
  {
   "cell_type": "code",
   "execution_count": 42,
   "metadata": {},
   "outputs": [
    {
     "data": {
      "text/html": [
       "<div>\n",
       "<style scoped>\n",
       "    .dataframe tbody tr th:only-of-type {\n",
       "        vertical-align: middle;\n",
       "    }\n",
       "\n",
       "    .dataframe tbody tr th {\n",
       "        vertical-align: top;\n",
       "    }\n",
       "\n",
       "    .dataframe thead th {\n",
       "        text-align: right;\n",
       "    }\n",
       "</style>\n",
       "<table border=\"1\" class=\"dataframe\">\n",
       "  <thead>\n",
       "    <tr style=\"text-align: right;\">\n",
       "      <th></th>\n",
       "      <th>IBGE</th>\n",
       "      <th>UF</th>\n",
       "      <th>Município</th>\n",
       "      <th>Região</th>\n",
       "      <th>População 2010</th>\n",
       "      <th>Porte</th>\n",
       "      <th>Capital</th>\n",
       "    </tr>\n",
       "  </thead>\n",
       "  <tbody>\n",
       "    <tr>\n",
       "      <th>2162</th>\n",
       "      <td>292740</td>\n",
       "      <td>BA</td>\n",
       "      <td>Salvador</td>\n",
       "      <td>Região Nordeste</td>\n",
       "      <td>2675656.00</td>\n",
       "      <td>Metrópole</td>\n",
       "      <td>Capital</td>\n",
       "    </tr>\n",
       "    <tr>\n",
       "      <th>949</th>\n",
       "      <td>230440</td>\n",
       "      <td>CE</td>\n",
       "      <td>Fortaleza</td>\n",
       "      <td>Região Nordeste</td>\n",
       "      <td>2452185.00</td>\n",
       "      <td>Metrópole</td>\n",
       "      <td>Capital</td>\n",
       "    </tr>\n",
       "    <tr>\n",
       "      <th>1596</th>\n",
       "      <td>261160</td>\n",
       "      <td>PE</td>\n",
       "      <td>Recife</td>\n",
       "      <td>Região Nordeste</td>\n",
       "      <td>1537704.00</td>\n",
       "      <td>Metrópole</td>\n",
       "      <td>Capital</td>\n",
       "    </tr>\n",
       "    <tr>\n",
       "      <th>635</th>\n",
       "      <td>211130</td>\n",
       "      <td>MA</td>\n",
       "      <td>São Luís</td>\n",
       "      <td>Região Nordeste</td>\n",
       "      <td>1014837.00</td>\n",
       "      <td>Metrópole</td>\n",
       "      <td>Capital</td>\n",
       "    </tr>\n",
       "    <tr>\n",
       "      <th>1696</th>\n",
       "      <td>270430</td>\n",
       "      <td>AL</td>\n",
       "      <td>Maceió</td>\n",
       "      <td>Região Nordeste</td>\n",
       "      <td>932748.00</td>\n",
       "      <td>Metrópole</td>\n",
       "      <td>Capital</td>\n",
       "    </tr>\n",
       "    <tr>\n",
       "      <th>882</th>\n",
       "      <td>221100</td>\n",
       "      <td>PI</td>\n",
       "      <td>Teresina</td>\n",
       "      <td>Região Nordeste</td>\n",
       "      <td>814230.00</td>\n",
       "      <td>Grande</td>\n",
       "      <td>Capital</td>\n",
       "    </tr>\n",
       "    <tr>\n",
       "      <th>1163</th>\n",
       "      <td>240810</td>\n",
       "      <td>RN</td>\n",
       "      <td>Natal</td>\n",
       "      <td>Região Nordeste</td>\n",
       "      <td>803739.00</td>\n",
       "      <td>Grande</td>\n",
       "      <td>Capital</td>\n",
       "    </tr>\n",
       "    <tr>\n",
       "      <th>1337</th>\n",
       "      <td>250750</td>\n",
       "      <td>PB</td>\n",
       "      <td>João Pessoa</td>\n",
       "      <td>Região Nordeste</td>\n",
       "      <td>723515.00</td>\n",
       "      <td>Grande</td>\n",
       "      <td>Capital</td>\n",
       "    </tr>\n",
       "    <tr>\n",
       "      <th>1552</th>\n",
       "      <td>260790</td>\n",
       "      <td>PE</td>\n",
       "      <td>Jaboatão Dos Guararapes</td>\n",
       "      <td>Região Nordeste</td>\n",
       "      <td>644620.00</td>\n",
       "      <td>Grande</td>\n",
       "      <td>NaN</td>\n",
       "    </tr>\n",
       "    <tr>\n",
       "      <th>1754</th>\n",
       "      <td>280030</td>\n",
       "      <td>SE</td>\n",
       "      <td>Aracaju</td>\n",
       "      <td>Região Nordeste</td>\n",
       "      <td>571149.00</td>\n",
       "      <td>Grande</td>\n",
       "      <td>Capital</td>\n",
       "    </tr>\n",
       "  </tbody>\n",
       "</table>\n",
       "</div>"
      ],
      "text/plain": [
       "        IBGE  UF                Município           Região  População 2010  \\\n",
       "2162  292740  BA                 Salvador  Região Nordeste      2675656.00   \n",
       "949   230440  CE                Fortaleza  Região Nordeste      2452185.00   \n",
       "1596  261160  PE                   Recife  Região Nordeste      1537704.00   \n",
       "635   211130  MA                 São Luís  Região Nordeste      1014837.00   \n",
       "1696  270430  AL                   Maceió  Região Nordeste       932748.00   \n",
       "882   221100  PI                 Teresina  Região Nordeste       814230.00   \n",
       "1163  240810  RN                    Natal  Região Nordeste       803739.00   \n",
       "1337  250750  PB              João Pessoa  Região Nordeste       723515.00   \n",
       "1552  260790  PE  Jaboatão Dos Guararapes  Região Nordeste       644620.00   \n",
       "1754  280030  SE                  Aracaju  Região Nordeste       571149.00   \n",
       "\n",
       "          Porte  Capital  \n",
       "2162  Metrópole  Capital  \n",
       "949   Metrópole  Capital  \n",
       "1596  Metrópole  Capital  \n",
       "635   Metrópole  Capital  \n",
       "1696  Metrópole  Capital  \n",
       "882      Grande  Capital  \n",
       "1163     Grande  Capital  \n",
       "1337     Grande  Capital  \n",
       "1552     Grande      NaN  \n",
       "1754     Grande  Capital  "
      ]
     },
     "execution_count": 42,
     "metadata": {},
     "output_type": "execute_result"
    }
   ],
   "source": [
    "#6 - Quais os 10 municípios com maior população?\n",
    "df[df['UF']=='BA'].sort_values(by = 'População 2010', ascending = False).head(10)"
   ]
  },
  {
   "cell_type": "code",
   "execution_count": null,
   "metadata": {},
   "outputs": [],
   "source": []
  },
  {
   "cell_type": "code",
   "execution_count": 54,
   "metadata": {},
   "outputs": [
    {
     "data": {
      "text/plain": [
       "'Borá'"
      ]
     },
     "execution_count": 54,
     "metadata": {},
     "output_type": "execute_result"
    }
   ],
   "source": [
    "#7 - Qual o município com menor população no país?\n",
    "df.sort_values(by= 'População 2010')['Município'].values[0]"
   ]
  },
  {
   "cell_type": "code",
   "execution_count": 55,
   "metadata": {},
   "outputs": [
    {
     "data": {
      "text/plain": [
       "UF\n",
       "AC     33343.59\n",
       "AL     30593.08\n",
       "AM     56193.31\n",
       "AP     41845.38\n",
       "BA     33613.68\n",
       "CE     45936.85\n",
       "DF   2570160.00\n",
       "ES     45063.49\n",
       "GO     24405.64\n",
       "MA     30298.57\n",
       "MG     22974.60\n",
       "MS     31397.74\n",
       "MT     21525.69\n",
       "PA     53014.34\n",
       "PB     16890.26\n",
       "PE     47548.37\n",
       "PI     13921.25\n",
       "PR     26176.76\n",
       "RJ    173803.58\n",
       "RN     18970.22\n",
       "RO     30046.33\n",
       "RR     30031.93\n",
       "RS     21560.34\n",
       "SC     21325.72\n",
       "SE     27573.56\n",
       "SP     63972.40\n",
       "TO      9952.84\n",
       "Name: População 2010, dtype: float64"
      ]
     },
     "execution_count": 55,
     "metadata": {},
     "output_type": "execute_result"
    }
   ],
   "source": [
    "# 8 - Qual o valor médio de população por estado?\n",
    "df.groupby(by = 'UF')['População 2010'].mean()"
   ]
  },
  {
   "cell_type": "code",
   "execution_count": 56,
   "metadata": {},
   "outputs": [
    {
     "data": {
      "text/plain": [
       "array(['Pequeno II', 'Médio', 'Pequeno I', 'Grande', 'Metrópole'],\n",
       "      dtype=object)"
      ]
     },
     "execution_count": 56,
     "metadata": {},
     "output_type": "execute_result"
    }
   ],
   "source": [
    "#9 - Quais são os valores possíveis na coluna \"Porte\"?\n",
    "df['Porte'].unique()"
   ]
  },
  {
   "cell_type": "code",
   "execution_count": 57,
   "metadata": {},
   "outputs": [
    {
     "data": {
      "text/plain": [
       "Porte\n",
       "Grande        234375.17\n",
       "Metrópole    2476051.88\n",
       "Médio          68659.09\n",
       "Pequeno I       8344.47\n",
       "Pequeno II     30052.42\n",
       "Name: População 2010, dtype: float64"
      ]
     },
     "execution_count": 57,
     "metadata": {},
     "output_type": "execute_result"
    }
   ],
   "source": [
    "# 10. Qual a média de população por cada tipo de porte de município?\n",
    "df.groupby(by = 'Porte')[\"População 2010\"].mean()"
   ]
  },
  {
   "cell_type": "code",
   "execution_count": 58,
   "metadata": {},
   "outputs": [
    {
     "data": {
      "text/plain": [
       "Pequeno I     3919\n",
       "Pequeno II    1043\n",
       "Médio          325\n",
       "Grande         266\n",
       "Metrópole       17\n",
       "Name: Porte, dtype: int64"
      ]
     },
     "execution_count": 58,
     "metadata": {},
     "output_type": "execute_result"
    }
   ],
   "source": [
    "df[\"Porte\"].value_counts()"
   ]
  },
  {
   "cell_type": "code",
   "execution_count": 60,
   "metadata": {},
   "outputs": [
    {
     "data": {
      "text/plain": [
       "Capital    27\n",
       "Name: Capital, dtype: int64"
      ]
     },
     "execution_count": 60,
     "metadata": {},
     "output_type": "execute_result"
    }
   ],
   "source": [
    "#11- O que quer informar a coluna \"Capital\"?\n",
    "df['Capital'].value_counts()\n",
    "#identifica os municípios que são capitais."
   ]
  },
  {
   "cell_type": "code",
   "execution_count": 63,
   "metadata": {},
   "outputs": [
    {
     "data": {
      "text/plain": [
       "array(['Porto Velho', 'Rio Branco', 'Manaus', 'Boa Vista', 'Belém',\n",
       "       'Macapá', 'Palmas', 'São Luís', 'Teresina', 'Fortaleza', 'Natal',\n",
       "       'João Pessoa', 'Recife', 'Maceió', 'Aracaju', 'Salvador',\n",
       "       'Belo Horizonte', 'Vitória', 'Rio de Janeiro', 'São Paulo',\n",
       "       'Curitiba', 'Florianópolis', 'Porto Alegre', 'Campo Grande',\n",
       "       'Cuiabá', 'Goiânia', 'Brasília'], dtype=object)"
      ]
     },
     "execution_count": 63,
     "metadata": {},
     "output_type": "execute_result"
    }
   ],
   "source": [
    "#12 - Listar as Capitais.\n",
    "df[df['Capital'] == 'Capital']['Município'].values"
   ]
  },
  {
   "cell_type": "code",
   "execution_count": 64,
   "metadata": {},
   "outputs": [
    {
     "data": {
      "text/plain": [
       "Pequeno I     943\n",
       "Pequeno II    147\n",
       "Médio          53\n",
       "Grande         46\n",
       "Metrópole       2\n",
       "Name: Porte, dtype: int64"
      ]
     },
     "execution_count": 64,
     "metadata": {},
     "output_type": "execute_result"
    }
   ],
   "source": [
    "# 13 - Qual a distribuição de porte de municípios na região Sul? E na região Norte?\n",
    "#Regiâo Sul\n",
    "df[df['Região'] == 'Região Sul']['Porte'].value_counts()"
   ]
  },
  {
   "cell_type": "code",
   "execution_count": 65,
   "metadata": {},
   "outputs": [
    {
     "data": {
      "text/plain": [
       "Pequeno I     276\n",
       "Pequeno II    111\n",
       "Médio          43\n",
       "Grande         18\n",
       "Metrópole       2\n",
       "Name: Porte, dtype: int64"
      ]
     },
     "execution_count": 65,
     "metadata": {},
     "output_type": "execute_result"
    }
   ],
   "source": [
    "#Regiâo Sul\n",
    "df[df['Região'] == 'Região Norte']['Porte'].value_counts()"
   ]
  }
 ],
 "metadata": {
  "kernelspec": {
   "display_name": "Python 3",
   "language": "python",
   "name": "python3"
  },
  "language_info": {
   "codemirror_mode": {
    "name": "ipython",
    "version": 3
   },
   "file_extension": ".py",
   "mimetype": "text/x-python",
   "name": "python",
   "nbconvert_exporter": "python",
   "pygments_lexer": "ipython3",
   "version": "3.6.4"
  }
 },
 "nbformat": 4,
 "nbformat_minor": 2
}
