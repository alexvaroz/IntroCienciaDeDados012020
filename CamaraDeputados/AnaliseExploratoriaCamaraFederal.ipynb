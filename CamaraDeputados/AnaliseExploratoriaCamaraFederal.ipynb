{
 "cells": [
  {
   "cell_type": "markdown",
   "metadata": {},
   "source": [
    "# Análise Exploratória - Composição da Câmara dos Deputados\n",
    "\n",
    "Neste notebook será efetuada uma análise exploratória utilizando dados abertos disponibilizados pela Câmara dos Deputados.\n",
    "\n",
    "A Câmara dos Deputados disponibiliza a lista de deputados via API. Veja a documentação da [API](\n",
    "http://www2.camara.leg.br/transparencia/dados-abertos/dados-abertos-legislativo/webservices) ."
   ]
  },
  {
   "cell_type": "code",
   "execution_count": 1,
   "metadata": {},
   "outputs": [],
   "source": [
    "#Importação das bibliotecas a serem utilizadas\n",
    "import requests\n",
    "import xml.etree.ElementTree as ET\n",
    "import datetime\n",
    "import pandas as pd"
   ]
  },
  {
   "cell_type": "code",
   "execution_count": 2,
   "metadata": {},
   "outputs": [
    {
     "data": {
      "text/plain": [
       "b'<deputado>\\n    <ideCadastro>204371</ideCadastro>\\n    <codOrcamento />\\n    <condicao>Titular</condicao>\\n    <matricula>278</matricula>\\n    <idParlamentar>1637543</idParlamentar>\\n    <nome>FELIPE RIGONI LOPES</nome>\\n    <nomeParlamentar>Felipe Rigoni </nomeParlamentar>\\n    <urlFoto>http://www.camara.gov.br/internet/deputado/bandep/204371.jpg</urlFoto>\\n    <sexo>masculino</sexo>\\n    <uf>ES</uf>\\n    <partido>PSB</partido>\\n    <gabinete>846</gabinete>\\n    <anexo>4</anexo>\\n    <fone>3215-5846</fone>\\n    <email>dep.feliperigoni@camara.leg.br</email>\\n    <comissoes>\\n      <titular />\\n      <suplente />\\n    </comissoes>\\n  </deputado>\\n  '"
      ]
     },
     "execution_count": 2,
     "metadata": {},
     "output_type": "execute_result"
    }
   ],
   "source": [
    "# Teste de chamada à API para entender o funcionamento\n",
    "url = 'http://www.camara.gov.br/SitCamaraWS/Deputados.asmx/ObterDeputados'\n",
    "r = requests.get(url)\n",
    "raiz = ET.fromstring(r.text)\n",
    "deputado = raiz[369]\n",
    "ET.tostring(deputado)"
   ]
  },
  {
   "cell_type": "code",
   "execution_count": 3,
   "metadata": {},
   "outputs": [
    {
     "data": {
      "text/plain": [
       "b'<Deputado>\\n    <numLegislatura>56</numLegislatura>\\n    <email>dep.geninhozuliani@camara.leg.br</email>\\n    <nomeProfissao>\\n    </nomeProfissao>\\n    <dataNascimento>13/01/1976</dataNascimento>\\n    <dataFalecimento>\\n    </dataFalecimento>\\n    <ufRepresentacaoAtual>SP</ufRepresentacaoAtual>\\n    <situacaoNaLegislaturaAtual>Em Exerc&#237;cio</situacaoNaLegislaturaAtual>\\n    <ideCadastro>204527</ideCadastro>\\n    <idParlamentarDeprecated>699056</idParlamentarDeprecated>\\n    <nomeParlamentarAtual>Geninho Zuliani </nomeParlamentarAtual>\\n    <nomeCivil>EUGENIO JOS&#201; ZULIANI</nomeCivil>\\n    <sexo>M</sexo>\\n    <partidoAtual>\\n      <idPartido>DEM</idPartido>\\n      <sigla>DEM</sigla>\\n      <nome>Democratas</nome>\\n    </partidoAtual>\\n    <gabinete>\\n      <numero>860</numero>\\n      <anexo>4</anexo>\\n      <telefone>3215-5860</telefone>\\n    </gabinete>\\n    <comissoes>\\n      <comissao>\\n        <idOrgaoLegislativoCD>538786</idOrgaoLegislativoCD>\\n        <siglaComissao>PLENARIO</siglaComissao>\\n        <nomeComissao>Plen&#225;rio Comiss&#227;o Geral</nomeComissao>\\n        <condicaoMembro>Titular</condicaoMembro>\\n        <dataEntrada>11/03/2020</dataEntrada>\\n        <dataSaida>\\n        </dataSaida>\\n      </comissao>\\n      <comissao>\\n        <idOrgaoLegislativoCD>538547</idOrgaoLegislativoCD>\\n        <siglaComissao>PEC00619</siglaComissao>\\n        <nomeComissao>Comiss&#227;o Especial destinada a proferir parecer &#224; Proposta de Emenda &#224; Constitui&#231;&#227;o n&#186; 6-A, de 2019, do Poder Executivo, que \"modifica o sistema de previd&#234;ncia social, estabelece regras de transi&#231;&#227;o e disposi&#231;&#245;es transit&#243;rias, e d&#225; outras provid&#234;ncias\"</nomeComissao>\\n        <condicaoMembro>Suplente</condicaoMembro>\\n        <dataEntrada>24/04/2019</dataEntrada>\\n        <dataSaida>08/08/2019</dataSaida>\\n      </comissao>\\n      <comissao>\\n        <idOrgaoLegislativoCD>538272</idOrgaoLegislativoCD>\\n        <siglaComissao>PEC39117</siglaComissao>\\n        <nomeComissao>Comiss&#227;o Especial destinada a proferir parecer &#224; Proposta de Emenda &#224; Constitui&#231;&#227;o n&#186; 391-A, de 2017, do Senado Federal, que \"altera o art. 159 da Constitui&#231;&#227;o Federal para disciplinar a distribui&#231;&#227;o de recursos pela Uni&#227;o ao Fundo de Participa&#231;&#227;o dos Munic&#237;pios\", e apensadas</nomeComissao>\\n        <condicaoMembro>Titular</condicaoMembro>\\n        <dataEntrada>07/05/2019</dataEntrada>\\n        <dataSaida>\\n        </dataSaida>\\n      </comissao>\\n      <comissao>\\n        <idOrgaoLegislativoCD>538470</idOrgaoLegislativoCD>\\n        <siglaComissao>PL488112</siglaComissao>\\n        <nomeComissao>Comiss&#227;o Especial destinada a proferir parecer ao Projeto de Lei n&#186; 4881, de 2012, do Jos&#233; de Filippi, que \"institui as diretrizes da Pol&#237;tica Metropolitana de Mobilidade Urbana (PMMU), cria o Pacto Metropolitano da Mobilidade Urbana e o Sistema  de Informa&#231;&#245;es dos Transportes Metropolitanos (SITRAM), com a Autoridade Metropolitana de Transportes e o Fundo Metropolitano de Transporte P&#250;blico e d&#225; outras provid&#234;ncias\"</nomeComissao>\\n        <condicaoMembro>Titular</condicaoMembro>\\n        <dataEntrada>15/04/2019</dataEntrada>\\n        <dataSaida>24/04/2019</dataSaida>\\n      </comissao>\\n      <comissao>\\n        <idOrgaoLegislativoCD>6174</idOrgaoLegislativoCD>\\n        <siglaComissao>CMADS</siglaComissao>\\n        <nomeComissao>Comiss&#227;o de Meio Ambiente e Desenvolvimento Sustent&#225;vel</nomeComissao>\\n        <condicaoMembro>Suplente</condicaoMembro>\\n        <dataEntrada>28/03/2019</dataEntrada>\\n        <dataSaida>02/04/2019</dataSaida>\\n      </comissao>\\n      <comissao>\\n        <idOrgaoLegislativoCD>2016</idOrgaoLegislativoCD>\\n        <siglaComissao>CVT</siglaComissao>\\n        <nomeComissao>Comiss&#227;o de Via&#231;&#227;o e Transportes</nomeComissao>\\n        <condicaoMembro>Suplente</condicaoMembro>\\n        <dataEntrada>13/03/2019</dataEntrada>\\n        <dataSaida>03/02/2020</dataSaida>\\n      </comissao>\\n      <comissao>\\n        <idOrgaoLegislativoCD>538650</idOrgaoLegislativoCD>\\n        <siglaComissao>PL326119</siglaComissao>\\n        <nomeComissao>Comiss&#227;o Especial destinada a proferir parecer ao Projeto de Lei n&#186; 3261, de 2019, do Senado Federal, que \"atualiza o marco legal do saneamento b&#225;sico e altera a Lei n&#186; 11.445, de 5 de janeiro de 2007 (Lei do Saneamento B&#225;sico), para aprimorar as condi&#231;&#245;es estruturais do saneamento b&#225;sico no Pa&#237;s, a Lei n&#186; 13.529, de 4 de dezembro de 2017, para autorizar a Uni&#227;o a participar de fundo com a finalidade exclusiva de financiar servi&#231;os t&#233;cnicos especializados, a Lei n&#186; 11.107, de 6 de abril de 2005 (Lei de Cons&#243;rcios P&#250;blicos), para vedar a presta&#231;&#227;o por contrato de programa dos servi&#231;os p&#250;blicos de que trata o art. 175 da Constitui&#231;&#227;o Federal, a Lei n&#186; 13.089, de 12 de janeiro de 2015 (Estatuto da Metr&#243;pole), para estender seu &#226;mbito de aplica&#231;&#227;o &#224;s microrregi&#245;es, e a Lei n&#186; 12.305, de 2 de agosto de 2010 (Lei de Res&#237;duos S&#243;lidos), para tratar de prazos para a disposi&#231;&#227;o final ambientalmente adequada dos rejeitos\" e apensados</nomeComissao>\\n        <condicaoMembro>Titular</condicaoMembro>\\n        <dataEntrada>20/08/2019</dataEntrada>\\n        <dataSaida>\\n        </dataSaida>\\n      </comissao>\\n      <comissao>\\n        <idOrgaoLegislativoCD>538548</idOrgaoLegislativoCD>\\n        <siglaComissao>PEC04819</siglaComissao>\\n        <nomeComissao>Comiss&#227;o Especial destinada a proferir parecer &#224; Proposta de Emenda &#224; Constitui&#231;&#227;o n&#186; 048-A, de 2019, do Senado Federal, que \"altera o art. 166 da Constitui&#231;&#227;o Federal para autorizar a transfer&#234;ncia de recursos federais a Estados, ao Distrito Federal e a Munic&#237;pios mediante emendas ao projeto de lei do or&#231;amento anual\"</nomeComissao>\\n        <condicaoMembro>Titular</condicaoMembro>\\n        <dataEntrada>17/09/2019</dataEntrada>\\n        <dataSaida>19/11/2019</dataSaida>\\n      </comissao>\\n      <comissao>\\n        <idOrgaoLegislativoCD>538608</idOrgaoLegislativoCD>\\n        <siglaComissao>SUBCTB</siglaComissao>\\n        <nomeComissao>Subcomiss&#227;o Especial com a finalidade de promover estudos e apresentar propostas para a moderniza&#231;&#227;o e acompanhamento dos assuntos relacionados &#224; Lei n&#186; 9.503/97, que instituiu o C&#243;digo de Tr&#226;nsito Brasileiro &#8211; CTB</nomeComissao>\\n        <condicaoMembro>Titular</condicaoMembro>\\n        <dataEntrada>24/05/2019</dataEntrada>\\n        <dataSaida>28/05/2019</dataSaida>\\n      </comissao>\\n      <comissao>\\n        <idOrgaoLegislativoCD>538430</idOrgaoLegislativoCD>\\n        <siglaComissao>PL10887</siglaComissao>\\n        <nomeComissao>Comiss&#227;o Especial destinada a proferir parecer ao Projeto de Lei n&#186; 10887, de 2018, do Sr. Roberto de Lucena, que \"altera a Lei n&#176; 8.429, de 2 de junho de 1992, que disp&#245;e sobre improbidade administrativa\"</nomeComissao>\\n        <condicaoMembro>Titular</condicaoMembro>\\n        <dataEntrada>14/08/2019</dataEntrada>\\n        <dataSaida>\\n        </dataSaida>\\n      </comissao>\\n      <comissao>\\n        <idOrgaoLegislativoCD>538553</idOrgaoLegislativoCD>\\n        <siglaComissao>PL706317</siglaComissao>\\n        <nomeComissao>Comiss&#227;o Especial destinada a proferir parecer ao Projeto de Lei n&#186; 7063, de 2017, do Senado Federal, que \"altera a Lei n&#186; 11.079, de 30 de dezembro de 2004, para reduzir o valor m&#237;nimo dos contratos de parcerias p&#250;blico-privadas celebrados por Estados, pelo Distrito Federal e por Munic&#237;pios, e apensados</nomeComissao>\\n        <condicaoMembro>Titular</condicaoMembro>\\n        <dataEntrada>16/07/2019</dataEntrada>\\n        <dataSaida>\\n        </dataSaida>\\n      </comissao>\\n      <comissao>\\n        <idOrgaoLegislativoCD>538608</idOrgaoLegislativoCD>\\n        <siglaComissao>SUBCTB</siglaComissao>\\n        <nomeComissao>Subcomiss&#227;o Especial com a finalidade de promover estudos e apresentar propostas para a moderniza&#231;&#227;o e acompanhamento dos assuntos relacionados &#224; Lei n&#186; 9.503/97, que instituiu o C&#243;digo de Tr&#226;nsito Brasileiro &#8211; CTB</nomeComissao>\\n        <condicaoMembro>Suplente</condicaoMembro>\\n        <dataEntrada>28/05/2019</dataEntrada>\\n        <dataSaida>\\n        </dataSaida>\\n      </comissao>\\n      <comissao>\\n        <idOrgaoLegislativoCD>538618</idOrgaoLegislativoCD>\\n        <siglaComissao>SUBRODOV</siglaComissao>\\n        <nomeComissao>Subcomiss&#227;o Permanente das Concess&#245;es Rodovi&#225;rias</nomeComissao>\\n        <condicaoMembro>Suplente</condicaoMembro>\\n        <dataEntrada>30/05/2019</dataEntrada>\\n        <dataSaida>\\n        </dataSaida>\\n      </comissao>\\n      <comissao>\\n        <idOrgaoLegislativoCD>538578</idOrgaoLegislativoCD>\\n        <siglaComissao>SUBALIME</siglaComissao>\\n        <nomeComissao>Subcomiss&#227;o Permanente para discutir e debater sobre Alimenta&#231;&#227;o e Sa&#250;de</nomeComissao>\\n        <condicaoMembro>Suplente</condicaoMembro>\\n        <dataEntrada>12/06/2019</dataEntrada>\\n        <dataSaida>\\n        </dataSaida>\\n      </comissao>\\n      <comissao>\\n        <idOrgaoLegislativoCD>2001</idOrgaoLegislativoCD>\\n        <siglaComissao>CAPADR</siglaComissao>\\n        <nomeComissao>Comiss&#227;o de Agricultura, Pecu&#225;ria, Abastecimento e Desenvolvimento Rural</nomeComissao>\\n        <condicaoMembro>Suplente</condicaoMembro>\\n        <dataEntrada>13/03/2019</dataEntrada>\\n        <dataSaida>03/02/2020</dataSaida>\\n      </comissao>\\n      <comissao>\\n        <idOrgaoLegislativoCD>2003</idOrgaoLegislativoCD>\\n        <siglaComissao>CCJC</siglaComissao>\\n        <nomeComissao>Comiss&#227;o de Constitui&#231;&#227;o e Justi&#231;a e de Cidadania</nomeComissao>\\n        <condicaoMembro>Titular</condicaoMembro>\\n        <dataEntrada>13/03/2019</dataEntrada>\\n        <dataSaida>03/02/2020</dataSaida>\\n      </comissao>\\n      <comissao>\\n        <idOrgaoLegislativoCD>180</idOrgaoLegislativoCD>\\n        <siglaComissao>PLEN</siglaComissao>\\n        <nomeComissao>Plen&#225;rio</nomeComissao>\\n        <condicaoMembro>Titular</condicaoMembro>\\n        <dataEntrada>20/03/2020</dataEntrada>\\n        <dataSaida>\\n        </dataSaida>\\n      </comissao>\\n      <comissao>\\n        <idOrgaoLegislativoCD>538627</idOrgaoLegislativoCD>\\n        <siglaComissao>PLP14619</siglaComissao>\\n        <nomeComissao>Comiss&#227;o Especial destinada a proferir parecer ao Projeto de Lei Complementar n&#186; 146, de 2019, do Sr&#186; Jhc e outros, que \"disp&#245;e sobre startups e apresenta medidas de est&#237;mulo &#224; cria&#231;&#227;o dessas empresas e estabelece incentivos aos investimentos por meio do aprimoramento do ambiente de neg&#243;cios no Pa&#237;s\"</nomeComissao>\\n        <condicaoMembro>Suplente</condicaoMembro>\\n        <dataEntrada>16/12/2019</dataEntrada>\\n        <dataSaida>17/12/2019</dataSaida>\\n      </comissao>\\n      <comissao>\\n        <idOrgaoLegislativoCD>538627</idOrgaoLegislativoCD>\\n        <siglaComissao>PLP14619</siglaComissao>\\n        <nomeComissao>Comiss&#227;o Especial destinada a proferir parecer ao Projeto de Lei Complementar n&#186; 146, de 2019, do Sr&#186; Jhc e outros, que \"disp&#245;e sobre startups e apresenta medidas de est&#237;mulo &#224; cria&#231;&#227;o dessas empresas e estabelece incentivos aos investimentos por meio do aprimoramento do ambiente de neg&#243;cios no Pa&#237;s\"</nomeComissao>\\n        <condicaoMembro>Titular</condicaoMembro>\\n        <dataEntrada>17/12/2019</dataEntrada>\\n        <dataSaida>\\n        </dataSaida>\\n      </comissao>\\n    </comissoes>\\n    <cargosComissoes>\\n      <cargoComissoes>\\n        <idOrgaoLegislativoCD>538553</idOrgaoLegislativoCD>\\n        <siglaComissao>PL706317</siglaComissao>\\n        <nomeComissao>Comiss&#227;o Especial destinada a proferir parecer ao Projeto de Lei n&#186; 7063, de 2017, do Senado Federal, que \"altera a Lei n&#186; 11.079, de 30 de dezembro de 2004, para reduzir o valor m&#237;nimo dos contratos de parcerias p&#250;blico-privadas celebrados por Estados, pelo Distrito Federal e por Munic&#237;pios, e apensados</nomeComissao>\\n        <idCargo>4</idCargo>\\n        <nomeCargo>3&#186; Vice-Presidente</nomeCargo>\\n        <dataEntrada>06/08/2019</dataEntrada>\\n        <dataSaida>\\n        </dataSaida>\\n      </cargoComissoes>\\n      <cargoComissoes>\\n        <idOrgaoLegislativoCD>538627</idOrgaoLegislativoCD>\\n        <siglaComissao>PLP14619</siglaComissao>\\n        <nomeComissao>Comiss&#227;o Especial destinada a proferir parecer ao Projeto de Lei Complementar n&#186; 146, de 2019, do Sr&#186; Jhc e outros, que \"disp&#245;e sobre startups e apresenta medidas de est&#237;mulo &#224; cria&#231;&#227;o dessas empresas e estabelece incentivos aos investimentos por meio do aprimoramento do ambiente de neg&#243;cios no Pa&#237;s\"</nomeComissao>\\n        <idCargo>3</idCargo>\\n        <nomeCargo>2&#186; Vice-Presidente</nomeCargo>\\n        <dataEntrada>12/02/2020</dataEntrada>\\n        <dataSaida>\\n        </dataSaida>\\n      </cargoComissoes>\\n      <cargoComissoes>\\n        <idOrgaoLegislativoCD>538650</idOrgaoLegislativoCD>\\n        <siglaComissao>PL326119</siglaComissao>\\n        <nomeComissao>Comiss&#227;o Especial destinada a proferir parecer ao Projeto de Lei n&#186; 3261, de 2019, do Senado Federal, que \"atualiza o marco legal do saneamento b&#225;sico e altera a Lei n&#186; 11.445, de 5 de janeiro de 2007 (Lei do Saneamento B&#225;sico), para aprimorar as condi&#231;&#245;es estruturais do saneamento b&#225;sico no Pa&#237;s, a Lei n&#186; 13.529, de 4 de dezembro de 2017, para autorizar a Uni&#227;o a participar de fundo com a finalidade exclusiva de financiar servi&#231;os t&#233;cnicos especializados, a Lei n&#186; 11.107, de 6 de abril de 2005 (Lei de Cons&#243;rcios P&#250;blicos), para vedar a presta&#231;&#227;o por contrato de programa dos servi&#231;os p&#250;blicos de que trata o art. 175 da Constitui&#231;&#227;o Federal, a Lei n&#186; 13.089, de 12 de janeiro de 2015 (Estatuto da Metr&#243;pole), para estender seu &#226;mbito de aplica&#231;&#227;o &#224;s microrregi&#245;es, e a Lei n&#186; 12.305, de 2 de agosto de 2010 (Lei de Res&#237;duos S&#243;lidos), para tratar de prazos para a disposi&#231;&#227;o final ambientalmente adequada dos rejeitos\" e apensados</nomeComissao>\\n        <idCargo>50</idCargo>\\n        <nomeCargo>Relator</nomeCargo>\\n        <dataEntrada>21/08/2019</dataEntrada>\\n        <dataSaida>\\n        </dataSaida>\\n      </cargoComissoes>\\n    </cargosComissoes>\\n    <periodosExercicio>\\n      <periodoExercicio>\\n        <siglaUFRepresentacao>SP</siglaUFRepresentacao>\\n        <situacaoExercicio>Titular</situacaoExercicio>\\n        <dataInicio>01/02/2019</dataInicio>\\n        <dataFim>\\n        </dataFim>\\n        <idCausaFimExercicio>\\n        </idCausaFimExercicio>\\n        <descricaoCausaFimExercicio>\\n        </descricaoCausaFimExercicio>\\n        <idCadastroParlamentarAnterior>\\n        </idCadastroParlamentarAnterior>\\n      </periodoExercicio>\\n    </periodosExercicio>\\n    <historicoNomeParlamentar />\\n    <filiacoesPartidarias />\\n    <historicoLider>\\n      <itemHistoricoLider>\\n        <idHistoricoLider>204527</idHistoricoLider>\\n        <idCargoLideranca>V</idCargoLideranca>\\n        <descricaoCargoLideranca>Vice-L&#237;der</descricaoCargoLideranca>\\n        <numOrdemCargo>1066</numOrdemCargo>\\n        <dataDesignacao>20/03/2019</dataDesignacao>\\n        <dataTermino>20/03/2019</dataTermino>\\n        <codigoUnidadeLideranca>B</codigoUnidadeLideranca>\\n        <siglaUnidadeLideranca>PL, PP, PSD, MDB, DEM, SOLIDARIEDADE, PTB, PROS, AVANTE</siglaUnidadeLideranca>\\n        <idBlocoPartido>575</idBlocoPartido>\\n      </itemHistoricoLider>\\n      <itemHistoricoLider>\\n        <idHistoricoLider>204527</idHistoricoLider>\\n        <idCargoLideranca>V</idCargoLideranca>\\n        <descricaoCargoLideranca>Vice-L&#237;der</descricaoCargoLideranca>\\n        <numOrdemCargo>1110</numOrdemCargo>\\n        <dataDesignacao>04/04/2019</dataDesignacao>\\n        <dataTermino>04/04/2019</dataTermino>\\n        <codigoUnidadeLideranca>B</codigoUnidadeLideranca>\\n        <siglaUnidadeLideranca>PL, PP, PSD, MDB, DEM, SOLIDARIEDADE, PTB, PROS, AVANTE</siglaUnidadeLideranca>\\n        <idBlocoPartido>575</idBlocoPartido>\\n      </itemHistoricoLider>\\n      <itemHistoricoLider>\\n        <idHistoricoLider>204527</idHistoricoLider>\\n        <idCargoLideranca>V</idCargoLideranca>\\n        <descricaoCargoLideranca>Vice-L&#237;der</descricaoCargoLideranca>\\n        <numOrdemCargo>1115</numOrdemCargo>\\n        <dataDesignacao>10/04/2019</dataDesignacao>\\n        <dataTermino>10/04/2019</dataTermino>\\n        <codigoUnidadeLideranca>B</codigoUnidadeLideranca>\\n        <siglaUnidadeLideranca>PL, PP, PSD, MDB, DEM, SOLIDARIEDADE, PTB, PROS, AVANTE</siglaUnidadeLideranca>\\n        <idBlocoPartido>575</idBlocoPartido>\\n      </itemHistoricoLider>\\n      <itemHistoricoLider>\\n        <idHistoricoLider>204527</idHistoricoLider>\\n        <idCargoLideranca>V</idCargoLideranca>\\n        <descricaoCargoLideranca>Vice-L&#237;der</descricaoCargoLideranca>\\n        <numOrdemCargo>1208</numOrdemCargo>\\n        <dataDesignacao>26/06/2019</dataDesignacao>\\n        <dataTermino>26/06/2019</dataTermino>\\n        <codigoUnidadeLideranca>P</codigoUnidadeLideranca>\\n        <siglaUnidadeLideranca>DEM</siglaUnidadeLideranca>\\n        <idBlocoPartido>DEM</idBlocoPartido>\\n      </itemHistoricoLider>\\n      <itemHistoricoLider>\\n        <idHistoricoLider>204527</idHistoricoLider>\\n        <idCargoLideranca>V</idCargoLideranca>\\n        <descricaoCargoLideranca>Vice-L&#237;der</descricaoCargoLideranca>\\n        <numOrdemCargo>1244</numOrdemCargo>\\n        <dataDesignacao>10/12/2019</dataDesignacao>\\n        <dataTermino>18/12/2019</dataTermino>\\n        <codigoUnidadeLideranca>P</codigoUnidadeLideranca>\\n        <siglaUnidadeLideranca>DEM</siglaUnidadeLideranca>\\n        <idBlocoPartido>DEM</idBlocoPartido>\\n      </itemHistoricoLider>\\n    </historicoLider>\\n  </Deputado>\\n'"
      ]
     },
     "execution_count": 3,
     "metadata": {},
     "output_type": "execute_result"
    }
   ],
   "source": [
    "# Teste de chamada para obter os detalhes\n",
    "url_detalhes = 'http://www.camara.leg.br/SitCamaraWS/Deputados.asmx/ObterDetalhesDeputado?ideCadastro={}&numLegislatura=56'\n",
    "url_detalhes = url_detalhes.format('204527')\n",
    "r = requests.get(url_detalhes)\n",
    "raiz_ = ET.fromstring(r.text)\n",
    "detalhe_deputado = raiz_[0]\n",
    "ET.tostring(detalhe_deputado)"
   ]
  },
  {
   "cell_type": "code",
   "execution_count": 4,
   "metadata": {},
   "outputs": [],
   "source": [
    "#Dicionário que será utilizado para pegar os dados interessantes\n",
    "registro = {\n",
    "    'ideCadastro': deputado.find('ideCadastro').text,\n",
    "    'condicao': deputado.find('condicao').text,\n",
    "    'nome': deputado.find('nome').text,\n",
    "    'nomeParlamentar': deputado.find('nomeParlamentar').text,\n",
    "    'sexo': deputado.find('sexo').text,\n",
    "    'dataNascimento': detalhe_deputado.find('dataNascimento').text,\n",
    "    'profissao':detalhe_deputado.find('nomeProfissao').text,\n",
    "    'uf': deputado.find('uf').text,\n",
    "    'partido': deputado.find('partido').text\n",
    "}"
   ]
  },
  {
   "cell_type": "code",
   "execution_count": 5,
   "metadata": {},
   "outputs": [
    {
     "data": {
      "text/plain": [
       "{'ideCadastro': '204371',\n",
       " 'condicao': 'Titular',\n",
       " 'nome': 'FELIPE RIGONI LOPES',\n",
       " 'nomeParlamentar': 'Felipe Rigoni ',\n",
       " 'sexo': 'masculino',\n",
       " 'dataNascimento': '13/01/1976',\n",
       " 'profissao': '\\n    ',\n",
       " 'uf': 'ES',\n",
       " 'partido': 'PSB'}"
      ]
     },
     "execution_count": 5,
     "metadata": {},
     "output_type": "execute_result"
    }
   ],
   "source": [
    "registro"
   ]
  },
  {
   "cell_type": "code",
   "execution_count": 6,
   "metadata": {},
   "outputs": [],
   "source": [
    "#Obtenção dos conjunto total de dados de forma programática\n",
    "lista = []\n",
    "i = 0\n",
    "for deputado in raiz:\n",
    "    url_detalhes = 'http://www.camara.leg.br/SitCamaraWS/Deputados.asmx/ObterDetalhesDeputado?ideCadastro={}&numLegislatura=56'\n",
    "    url_detalhes = url_detalhes.format(deputado.find('ideCadastro').text)\n",
    "    r = requests.get(url_detalhes)\n",
    "    raiz_ = ET.fromstring(r.text)\n",
    "    detalhe = raiz_[0]\n",
    "    registro = {\n",
    "    'ideCadastro': deputado.find('ideCadastro').text,\n",
    "    'condicao': deputado.find('condicao').text,\n",
    "    'nome': deputado.find('nome').text,\n",
    "    'nomeParlamentar': deputado.find('nomeParlamentar').text,\n",
    "    'sexo': deputado.find('sexo').text,  \n",
    "    'uf': deputado.find('uf').text,\n",
    "    'partido': deputado.find('partido').text,\n",
    "    'dataNascimento': detalhe.find('dataNascimento').text,\n",
    "    'email': deputado.find('email').text\n",
    "}\n",
    "    lista.append(registro)\n",
    "df_deputados = pd.DataFrame(lista)"
   ]
  },
  {
   "cell_type": "code",
   "execution_count": 7,
   "metadata": {},
   "outputs": [
    {
     "data": {
      "text/html": [
       "<div>\n",
       "<style scoped>\n",
       "    .dataframe tbody tr th:only-of-type {\n",
       "        vertical-align: middle;\n",
       "    }\n",
       "\n",
       "    .dataframe tbody tr th {\n",
       "        vertical-align: top;\n",
       "    }\n",
       "\n",
       "    .dataframe thead th {\n",
       "        text-align: right;\n",
       "    }\n",
       "</style>\n",
       "<table border=\"1\" class=\"dataframe\">\n",
       "  <thead>\n",
       "    <tr style=\"text-align: right;\">\n",
       "      <th></th>\n",
       "      <th>condicao</th>\n",
       "      <th>dataNascimento</th>\n",
       "      <th>email</th>\n",
       "      <th>ideCadastro</th>\n",
       "      <th>nome</th>\n",
       "      <th>nomeParlamentar</th>\n",
       "      <th>partido</th>\n",
       "      <th>sexo</th>\n",
       "      <th>uf</th>\n",
       "    </tr>\n",
       "  </thead>\n",
       "  <tbody>\n",
       "    <tr>\n",
       "      <th>0</th>\n",
       "      <td>Titular</td>\n",
       "      <td>26/04/1942</td>\n",
       "      <td>dep.beneditadasilva@camara.leg.br</td>\n",
       "      <td>73701</td>\n",
       "      <td>BENEDITA SOUZA DA SILVA SAMPAIO</td>\n",
       "      <td>Benedita da Silva</td>\n",
       "      <td>PT</td>\n",
       "      <td>feminino</td>\n",
       "      <td>RJ</td>\n",
       "    </tr>\n",
       "    <tr>\n",
       "      <th>1</th>\n",
       "      <td>Titular</td>\n",
       "      <td>20/12/1953</td>\n",
       "      <td>dep.angelaamin@camara.leg.br</td>\n",
       "      <td>73696</td>\n",
       "      <td>ANGELA REGINA HEINZEN AMIN HELOU</td>\n",
       "      <td>Angela Amin</td>\n",
       "      <td>PP</td>\n",
       "      <td>feminino</td>\n",
       "      <td>SC</td>\n",
       "    </tr>\n",
       "    <tr>\n",
       "      <th>2</th>\n",
       "      <td>Titular</td>\n",
       "      <td>20/04/1959</td>\n",
       "      <td>dep.renildocalheiros@camara.leg.br</td>\n",
       "      <td>73801</td>\n",
       "      <td>RENILDO VASCONCELOS CALHEIROS</td>\n",
       "      <td>Renildo Calheiros</td>\n",
       "      <td>PCdoB</td>\n",
       "      <td>masculino</td>\n",
       "      <td>PE</td>\n",
       "    </tr>\n",
       "    <tr>\n",
       "      <th>3</th>\n",
       "      <td>Titular</td>\n",
       "      <td>17/05/1957</td>\n",
       "      <td>dep.jandirafeghali@camara.leg.br</td>\n",
       "      <td>74848</td>\n",
       "      <td>JANDIRA FEGHALI</td>\n",
       "      <td>Jandira Feghali</td>\n",
       "      <td>PCdoB</td>\n",
       "      <td>feminino</td>\n",
       "      <td>RJ</td>\n",
       "    </tr>\n",
       "    <tr>\n",
       "      <th>4</th>\n",
       "      <td>Titular</td>\n",
       "      <td>07/04/1947</td>\n",
       "      <td>dep.atilalira@camara.leg.br</td>\n",
       "      <td>74459</td>\n",
       "      <td>ÁTILA FREITAS LIRA</td>\n",
       "      <td>Átila Lira</td>\n",
       "      <td>PP</td>\n",
       "      <td>masculino</td>\n",
       "      <td>PI</td>\n",
       "    </tr>\n",
       "  </tbody>\n",
       "</table>\n",
       "</div>"
      ],
      "text/plain": [
       "  condicao dataNascimento                               email ideCadastro  \\\n",
       "0  Titular     26/04/1942   dep.beneditadasilva@camara.leg.br       73701   \n",
       "1  Titular     20/12/1953        dep.angelaamin@camara.leg.br       73696   \n",
       "2  Titular     20/04/1959  dep.renildocalheiros@camara.leg.br       73801   \n",
       "3  Titular     17/05/1957    dep.jandirafeghali@camara.leg.br       74848   \n",
       "4  Titular     07/04/1947         dep.atilalira@camara.leg.br       74459   \n",
       "\n",
       "                               nome     nomeParlamentar partido       sexo  uf  \n",
       "0   BENEDITA SOUZA DA SILVA SAMPAIO  Benedita da Silva       PT   feminino  RJ  \n",
       "1  ANGELA REGINA HEINZEN AMIN HELOU        Angela Amin       PP   feminino  SC  \n",
       "2     RENILDO VASCONCELOS CALHEIROS  Renildo Calheiros    PCdoB  masculino  PE  \n",
       "3                   JANDIRA FEGHALI    Jandira Feghali    PCdoB   feminino  RJ  \n",
       "4                ÁTILA FREITAS LIRA         Átila Lira       PP  masculino  PI  "
      ]
     },
     "execution_count": 7,
     "metadata": {},
     "output_type": "execute_result"
    }
   ],
   "source": [
    "df_deputados.head()"
   ]
  },
  {
   "cell_type": "code",
   "execution_count": 8,
   "metadata": {},
   "outputs": [],
   "source": [
    "#Salvar para consultas futuras e evitar ter que baixar novamente\n",
    "df_deputados.to_csv('deputados.csv', encoding='latin1', sep=';', index='False')"
   ]
  },
  {
   "cell_type": "code",
   "execution_count": 9,
   "metadata": {},
   "outputs": [
    {
     "data": {
      "text/plain": [
       "condicao           object\n",
       "dataNascimento     object\n",
       "email              object\n",
       "ideCadastro        object\n",
       "nome               object\n",
       "nomeParlamentar    object\n",
       "partido            object\n",
       "sexo               object\n",
       "uf                 object\n",
       "dtype: object"
      ]
     },
     "execution_count": 9,
     "metadata": {},
     "output_type": "execute_result"
    }
   ],
   "source": [
    "df_deputados.dtypes"
   ]
  },
  {
   "cell_type": "code",
   "execution_count": 10,
   "metadata": {},
   "outputs": [],
   "source": [
    "#Para facilitar a análise, criar uma nova coluna com a Idade calculada utilizando a data de nascomento\n",
    "# Será utilizada uma função que faz o cáculo\n",
    "def calcular_idade(dt_nascimento):\n",
    "    hoje = datetime.date.today()\n",
    "    return hoje.year - dt_nascimento.year - ((hoje.month, hoje.day) < (dt_nascimento.month, dt_nascimento.day))"
   ]
  },
  {
   "cell_type": "code",
   "execution_count": 11,
   "metadata": {},
   "outputs": [],
   "source": [
    "df_deputados['idade'] = df_deputados.apply(lambda row: calcular_idade(datetime.datetime.strptime(row.dataNascimento, \"%d/%m/%Y\")), axis=1)"
   ]
  },
  {
   "cell_type": "code",
   "execution_count": 12,
   "metadata": {},
   "outputs": [
    {
     "data": {
      "text/html": [
       "<div>\n",
       "<style scoped>\n",
       "    .dataframe tbody tr th:only-of-type {\n",
       "        vertical-align: middle;\n",
       "    }\n",
       "\n",
       "    .dataframe tbody tr th {\n",
       "        vertical-align: top;\n",
       "    }\n",
       "\n",
       "    .dataframe thead th {\n",
       "        text-align: right;\n",
       "    }\n",
       "</style>\n",
       "<table border=\"1\" class=\"dataframe\">\n",
       "  <thead>\n",
       "    <tr style=\"text-align: right;\">\n",
       "      <th></th>\n",
       "      <th>condicao</th>\n",
       "      <th>dataNascimento</th>\n",
       "      <th>email</th>\n",
       "      <th>ideCadastro</th>\n",
       "      <th>nome</th>\n",
       "      <th>nomeParlamentar</th>\n",
       "      <th>partido</th>\n",
       "      <th>sexo</th>\n",
       "      <th>uf</th>\n",
       "      <th>idade</th>\n",
       "    </tr>\n",
       "  </thead>\n",
       "  <tbody>\n",
       "    <tr>\n",
       "      <th>0</th>\n",
       "      <td>Titular</td>\n",
       "      <td>26/04/1942</td>\n",
       "      <td>dep.beneditadasilva@camara.leg.br</td>\n",
       "      <td>73701</td>\n",
       "      <td>BENEDITA SOUZA DA SILVA SAMPAIO</td>\n",
       "      <td>Benedita da Silva</td>\n",
       "      <td>PT</td>\n",
       "      <td>feminino</td>\n",
       "      <td>RJ</td>\n",
       "      <td>77</td>\n",
       "    </tr>\n",
       "    <tr>\n",
       "      <th>1</th>\n",
       "      <td>Titular</td>\n",
       "      <td>20/12/1953</td>\n",
       "      <td>dep.angelaamin@camara.leg.br</td>\n",
       "      <td>73696</td>\n",
       "      <td>ANGELA REGINA HEINZEN AMIN HELOU</td>\n",
       "      <td>Angela Amin</td>\n",
       "      <td>PP</td>\n",
       "      <td>feminino</td>\n",
       "      <td>SC</td>\n",
       "      <td>66</td>\n",
       "    </tr>\n",
       "    <tr>\n",
       "      <th>2</th>\n",
       "      <td>Titular</td>\n",
       "      <td>20/04/1959</td>\n",
       "      <td>dep.renildocalheiros@camara.leg.br</td>\n",
       "      <td>73801</td>\n",
       "      <td>RENILDO VASCONCELOS CALHEIROS</td>\n",
       "      <td>Renildo Calheiros</td>\n",
       "      <td>PCdoB</td>\n",
       "      <td>masculino</td>\n",
       "      <td>PE</td>\n",
       "      <td>60</td>\n",
       "    </tr>\n",
       "    <tr>\n",
       "      <th>3</th>\n",
       "      <td>Titular</td>\n",
       "      <td>17/05/1957</td>\n",
       "      <td>dep.jandirafeghali@camara.leg.br</td>\n",
       "      <td>74848</td>\n",
       "      <td>JANDIRA FEGHALI</td>\n",
       "      <td>Jandira Feghali</td>\n",
       "      <td>PCdoB</td>\n",
       "      <td>feminino</td>\n",
       "      <td>RJ</td>\n",
       "      <td>62</td>\n",
       "    </tr>\n",
       "    <tr>\n",
       "      <th>4</th>\n",
       "      <td>Titular</td>\n",
       "      <td>07/04/1947</td>\n",
       "      <td>dep.atilalira@camara.leg.br</td>\n",
       "      <td>74459</td>\n",
       "      <td>ÁTILA FREITAS LIRA</td>\n",
       "      <td>Átila Lira</td>\n",
       "      <td>PP</td>\n",
       "      <td>masculino</td>\n",
       "      <td>PI</td>\n",
       "      <td>73</td>\n",
       "    </tr>\n",
       "  </tbody>\n",
       "</table>\n",
       "</div>"
      ],
      "text/plain": [
       "  condicao dataNascimento                               email ideCadastro  \\\n",
       "0  Titular     26/04/1942   dep.beneditadasilva@camara.leg.br       73701   \n",
       "1  Titular     20/12/1953        dep.angelaamin@camara.leg.br       73696   \n",
       "2  Titular     20/04/1959  dep.renildocalheiros@camara.leg.br       73801   \n",
       "3  Titular     17/05/1957    dep.jandirafeghali@camara.leg.br       74848   \n",
       "4  Titular     07/04/1947         dep.atilalira@camara.leg.br       74459   \n",
       "\n",
       "                               nome     nomeParlamentar partido       sexo  \\\n",
       "0   BENEDITA SOUZA DA SILVA SAMPAIO  Benedita da Silva       PT   feminino   \n",
       "1  ANGELA REGINA HEINZEN AMIN HELOU        Angela Amin       PP   feminino   \n",
       "2     RENILDO VASCONCELOS CALHEIROS  Renildo Calheiros    PCdoB  masculino   \n",
       "3                   JANDIRA FEGHALI    Jandira Feghali    PCdoB   feminino   \n",
       "4                ÁTILA FREITAS LIRA         Átila Lira       PP  masculino   \n",
       "\n",
       "   uf  idade  \n",
       "0  RJ     77  \n",
       "1  SC     66  \n",
       "2  PE     60  \n",
       "3  RJ     62  \n",
       "4  PI     73  "
      ]
     },
     "execution_count": 12,
     "metadata": {},
     "output_type": "execute_result"
    }
   ],
   "source": [
    "df_deputados.head()"
   ]
  },
  {
   "cell_type": "markdown",
   "metadata": {},
   "source": [
    "Com os dados estabelecidos, podemos tentar algumas consultas para conhecer melhor o conjunto:"
   ]
  },
  {
   "cell_type": "code",
   "execution_count": 13,
   "metadata": {},
   "outputs": [
    {
     "data": {
      "text/html": [
       "<div>\n",
       "<style scoped>\n",
       "    .dataframe tbody tr th:only-of-type {\n",
       "        vertical-align: middle;\n",
       "    }\n",
       "\n",
       "    .dataframe tbody tr th {\n",
       "        vertical-align: top;\n",
       "    }\n",
       "\n",
       "    .dataframe thead th {\n",
       "        text-align: right;\n",
       "    }\n",
       "</style>\n",
       "<table border=\"1\" class=\"dataframe\">\n",
       "  <thead>\n",
       "    <tr style=\"text-align: right;\">\n",
       "      <th></th>\n",
       "      <th>condicao</th>\n",
       "      <th>dataNascimento</th>\n",
       "      <th>email</th>\n",
       "      <th>ideCadastro</th>\n",
       "      <th>nome</th>\n",
       "      <th>nomeParlamentar</th>\n",
       "      <th>partido</th>\n",
       "      <th>sexo</th>\n",
       "      <th>uf</th>\n",
       "      <th>idade</th>\n",
       "    </tr>\n",
       "  </thead>\n",
       "  <tbody>\n",
       "    <tr>\n",
       "      <th>5</th>\n",
       "      <td>Titular</td>\n",
       "      <td>23/05/1948</td>\n",
       "      <td>dep.rubensbueno@camara.leg.br</td>\n",
       "      <td>73466</td>\n",
       "      <td>RUBENS BUENO</td>\n",
       "      <td>Rubens Bueno</td>\n",
       "      <td>CIDADANIA</td>\n",
       "      <td>masculino</td>\n",
       "      <td>PR</td>\n",
       "      <td>71</td>\n",
       "    </tr>\n",
       "    <tr>\n",
       "      <th>53</th>\n",
       "      <td>Titular</td>\n",
       "      <td>08/05/1955</td>\n",
       "      <td>dep.arnaldojardim@camara.leg.br</td>\n",
       "      <td>141391</td>\n",
       "      <td>ARNALDO CALIL PEREIRA JARDIM</td>\n",
       "      <td>Arnaldo Jardim</td>\n",
       "      <td>CIDADANIA</td>\n",
       "      <td>masculino</td>\n",
       "      <td>SP</td>\n",
       "      <td>64</td>\n",
       "    </tr>\n",
       "    <tr>\n",
       "      <th>134</th>\n",
       "      <td>Titular</td>\n",
       "      <td>06/10/1962</td>\n",
       "      <td>dep.carmenzanotto@camara.leg.br</td>\n",
       "      <td>164360</td>\n",
       "      <td>CARMEN EMÍLIA BONFÁ ZANOTTO</td>\n",
       "      <td>Carmen Zanotto</td>\n",
       "      <td>CIDADANIA</td>\n",
       "      <td>feminino</td>\n",
       "      <td>SC</td>\n",
       "      <td>57</td>\n",
       "    </tr>\n",
       "    <tr>\n",
       "      <th>147</th>\n",
       "      <td>Titular</td>\n",
       "      <td>07/07/1982</td>\n",
       "      <td>dep.marcelocalero@camara.leg.br</td>\n",
       "      <td>204433</td>\n",
       "      <td>MARCELO CALERO FARIA GARCIA</td>\n",
       "      <td>Marcelo Calero</td>\n",
       "      <td>CIDADANIA</td>\n",
       "      <td>masculino</td>\n",
       "      <td>RJ</td>\n",
       "      <td>37</td>\n",
       "    </tr>\n",
       "    <tr>\n",
       "      <th>170</th>\n",
       "      <td>Titular</td>\n",
       "      <td>04/11/1978</td>\n",
       "      <td>dep.danielcoelho@camara.leg.br</td>\n",
       "      <td>178916</td>\n",
       "      <td>DANIEL PIRES COELHO</td>\n",
       "      <td>Daniel Coelho</td>\n",
       "      <td>CIDADANIA</td>\n",
       "      <td>masculino</td>\n",
       "      <td>PE</td>\n",
       "      <td>41</td>\n",
       "    </tr>\n",
       "    <tr>\n",
       "      <th>199</th>\n",
       "      <td>Titular</td>\n",
       "      <td>22/08/1979</td>\n",
       "      <td>dep.alexmanente@camara.leg.br</td>\n",
       "      <td>178972</td>\n",
       "      <td>ALEX SPINELLI MANENTE</td>\n",
       "      <td>Alex Manente</td>\n",
       "      <td>CIDADANIA</td>\n",
       "      <td>masculino</td>\n",
       "      <td>SP</td>\n",
       "      <td>40</td>\n",
       "    </tr>\n",
       "    <tr>\n",
       "      <th>246</th>\n",
       "      <td>Titular</td>\n",
       "      <td>02/06/1971</td>\n",
       "      <td>dep.davitoria@camara.leg.br</td>\n",
       "      <td>204355</td>\n",
       "      <td>JOSIAS MARIO DA VITORIA</td>\n",
       "      <td>Da Vitoria</td>\n",
       "      <td>CIDADANIA</td>\n",
       "      <td>masculino</td>\n",
       "      <td>ES</td>\n",
       "      <td>48</td>\n",
       "    </tr>\n",
       "    <tr>\n",
       "      <th>403</th>\n",
       "      <td>Titular</td>\n",
       "      <td>23/06/1973</td>\n",
       "      <td>dep.paulabelmonte@camara.leg.br</td>\n",
       "      <td>204377</td>\n",
       "      <td>PAULA MORENO PARO BELMONTE</td>\n",
       "      <td>Paula Belmonte</td>\n",
       "      <td>CIDADANIA</td>\n",
       "      <td>feminino</td>\n",
       "      <td>DF</td>\n",
       "      <td>46</td>\n",
       "    </tr>\n",
       "  </tbody>\n",
       "</table>\n",
       "</div>"
      ],
      "text/plain": [
       "    condicao dataNascimento                            email ideCadastro  \\\n",
       "5    Titular     23/05/1948    dep.rubensbueno@camara.leg.br       73466   \n",
       "53   Titular     08/05/1955  dep.arnaldojardim@camara.leg.br      141391   \n",
       "134  Titular     06/10/1962  dep.carmenzanotto@camara.leg.br      164360   \n",
       "147  Titular     07/07/1982  dep.marcelocalero@camara.leg.br      204433   \n",
       "170  Titular     04/11/1978   dep.danielcoelho@camara.leg.br      178916   \n",
       "199  Titular     22/08/1979    dep.alexmanente@camara.leg.br      178972   \n",
       "246  Titular     02/06/1971      dep.davitoria@camara.leg.br      204355   \n",
       "403  Titular     23/06/1973  dep.paulabelmonte@camara.leg.br      204377   \n",
       "\n",
       "                             nome  nomeParlamentar    partido       sexo  uf  \\\n",
       "5                    RUBENS BUENO    Rubens Bueno   CIDADANIA  masculino  PR   \n",
       "53   ARNALDO CALIL PEREIRA JARDIM  Arnaldo Jardim   CIDADANIA  masculino  SP   \n",
       "134   CARMEN EMÍLIA BONFÁ ZANOTTO  Carmen Zanotto   CIDADANIA   feminino  SC   \n",
       "147   MARCELO CALERO FARIA GARCIA  Marcelo Calero   CIDADANIA  masculino  RJ   \n",
       "170           DANIEL PIRES COELHO   Daniel Coelho   CIDADANIA  masculino  PE   \n",
       "199         ALEX SPINELLI MANENTE    Alex Manente   CIDADANIA  masculino  SP   \n",
       "246       JOSIAS MARIO DA VITORIA      Da Vitoria   CIDADANIA  masculino  ES   \n",
       "403    PAULA MORENO PARO BELMONTE  Paula Belmonte   CIDADANIA   feminino  DF   \n",
       "\n",
       "     idade  \n",
       "5       71  \n",
       "53      64  \n",
       "134     57  \n",
       "147     37  \n",
       "170     41  \n",
       "199     40  \n",
       "246     48  \n",
       "403     46  "
      ]
     },
     "execution_count": 13,
     "metadata": {},
     "output_type": "execute_result"
    }
   ],
   "source": [
    "#Quais deputados pertencem ao partido 'CIDADANIA'?\n",
    "df_deputados[df_deputados['partido'] == 'CIDADANIA']"
   ]
  },
  {
   "cell_type": "code",
   "execution_count": 14,
   "metadata": {},
   "outputs": [
    {
     "data": {
      "text/plain": [
       "PSDB             9\n",
       "PSL              9\n",
       "PT               8\n",
       "PL               7\n",
       "REPUBLICANOS     6\n",
       "DEM              4\n",
       "PP               4\n",
       "PSB              3\n",
       "PODE             3\n",
       "PSOL             3\n",
       "NOVO             3\n",
       "CIDADANIA        2\n",
       "PSD              2\n",
       "MDB              2\n",
       "PDT              1\n",
       "PCdoB            1\n",
       "SOLIDARIEDADE    1\n",
       "PSC              1\n",
       "PV               1\n",
       "Name: partido, dtype: int64"
      ]
     },
     "execution_count": 14,
     "metadata": {},
     "output_type": "execute_result"
    }
   ],
   "source": [
    "# Qual a distribuição entre os partidos dos deputados de SP\n",
    "df_deputados[df_deputados['uf'] == 'SP'].partido.value_counts()"
   ]
  },
  {
   "cell_type": "code",
   "execution_count": 17,
   "metadata": {},
   "outputs": [
    {
     "data": {
      "text/plain": [
       "PT               53\n",
       "PSL              53\n",
       "PP               40\n",
       "PL               39\n",
       "PSD              37\n",
       "MDB              34\n",
       "PSDB             33\n",
       "REPUBLICANOS     31\n",
       "PSB              30\n",
       "PDT              28\n",
       "DEM              27\n",
       "SOLIDARIEDADE    14\n",
       "PODE             12\n",
       "PTB              12\n",
       "PSOL             10\n",
       "PROS             10\n",
       "PSC               9\n",
       "CIDADANIA         8\n",
       "NOVO              8\n",
       "PCdoB             8\n",
       "AVANTE            7\n",
       "PATRIOTA          5\n",
       "PV                4\n",
       "REDE              1\n",
       "Name: partido, dtype: int64"
      ]
     },
     "execution_count": 17,
     "metadata": {},
     "output_type": "execute_result"
    }
   ],
   "source": [
    "#Distribuição dos deputados entre os partidos\n",
    "df_deputados.partido.value_counts()"
   ]
  },
  {
   "cell_type": "code",
   "execution_count": 18,
   "metadata": {},
   "outputs": [
    {
     "data": {
      "text/plain": [
       "masculino    436\n",
       "feminino      77\n",
       "Name: sexo, dtype: int64"
      ]
     },
     "execution_count": 18,
     "metadata": {},
     "output_type": "execute_result"
    }
   ],
   "source": [
    "# Distribuição dos deputados por sexo\n",
    "df_deputados.sexo.value_counts()"
   ]
  },
  {
   "cell_type": "markdown",
   "metadata": {},
   "source": [
    "Que outras perguntas poderiam ser feitas?? Imagine que você trabalha para uma revista e precisa fazer um infográfico sobre a composição da Câmara na nova legistatura."
   ]
  }
 ],
 "metadata": {
  "kernelspec": {
   "display_name": "Python 3",
   "language": "python",
   "name": "python3"
  },
  "language_info": {
   "codemirror_mode": {
    "name": "ipython",
    "version": 3
   },
   "file_extension": ".py",
   "mimetype": "text/x-python",
   "name": "python",
   "nbconvert_exporter": "python",
   "pygments_lexer": "ipython3",
   "version": "3.6.8"
  }
 },
 "nbformat": 4,
 "nbformat_minor": 2
}
