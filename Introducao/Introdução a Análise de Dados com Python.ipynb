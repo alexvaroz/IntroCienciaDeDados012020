{
 "cells": [
  {
   "cell_type": "markdown",
   "metadata": {},
   "source": [
    "# Introdução a Análise de Dados com Python\n",
    "\n",
    "##### Referência Bibliográfica:\n",
    "* Python for Data Analysis, Wes McKinney, O'Reilly Media"
   ]
  },
  {
   "cell_type": "markdown",
   "metadata": {},
   "source": [
    "O objetivo deste material é apresentar os conceitos básicos para o início dos estudos sobre análise de dados utilizando a linguagem de programação Python.\n",
    "\n",
    "A primeira pergunta que surge é: \n",
    "\n",
    "- Por quê **Python**??\n",
    "\n",
    "Desde sua primeira aparição em 1991, o Python se tornou uma das linguagens de programação dinâmicas ou de script mais populares, juntamente com Perl, Ruby e outros. \n",
    "\n",
    "Dentre essa classe de linguagens, o Python se distingue pela grande e ativa comunidade de computação científica. \n",
    "Essa adoção vem aumentando significativamente desde o início dos anos 2000.\n",
    "\n",
    "Em análise de dados (tanto de visualização ou exploratória), sempre haverá a comparação do Python com outras linguagens e ferramentas comerciais de amplo uso como o **R**, **MATLAB**, **SAS**, **Stata** e outros.\n",
    "\n",
    "Leituras recomendadas:\n",
    "\n",
    "- https://medium.com/datadriveninvestor/top-6-data-science-programming-languages-for-2019-39ba1b6819a8\n",
    "- https://insights.dice.com/2019/03/01/best-programming-language-data-science/\n",
    "- https://towardsdatascience.com/python-vs-r-choosing-the-best-programming-languages-for-data-science-b1327f01f6bf\n",
    "\n",
    "Fatores de sucesso para a adoção do Python como principal linguagem de programação para a Ciência de Dados:\n",
    "\n",
    "**Grande comunidade** –  Dúvidas podem ser sanadas facilmente com pesquisas em fórums e sites especializados (https://stackoverflow.com/ é o principal deles)\n",
    "\n",
    "**Crescente número de bibliotecas de análise de dados** – Grande variedade bibliotecas de Ciência de dados (como por exemplo: *NumPy*, *SciPy*, *StatsModels*, *scikit-learn*, *pandas*, etc.), que estão em crescimento exponencial.\n",
    "\n",
    "**Curva de aprendizado** – O aprendizado é, consensualmente, rápido. A linguagem foi projetada para ser simples.\n",
    "\n",
    "### Bibliotecas utilizadas\n",
    "\n",
    "- **numpy**: principal biblioteca para computação científica em Python. Fornece várias operações e recursos matemáticos.\n",
    "- **pandas**: fornece estruturas de dados e funções projetadas para o trabalho com dados estruturados.\n",
    "- **matplotLib**: biblioteca mais popular para a produção de gráficos e outras visualizações de dados em 2D.\n",
    "- **scikit learn**: utilizada para a implementação de modelos de data mining. \n",
    "\n",
    "### Jupyter Notebook\n",
    "\n",
    "É um ambiente computacional web para criação de documentos para a plataforma Jupyter. O termo \"notebook\" pode, dependendo do contexto, fazer referência a entidades distintas como Jupyter (aplicativo Web), Jupyter Python (servidor Web) ou ao formato de documento para a plataforma. Um documento Jupyter Notebook é estruturado formato JSON, contendo uma lista ordenada de células de entrada / saída que podem conter código, texto (usando Markdown), matemática, gráficos e texto enriquecido, geralmente terminando com a extensão \".ipynb\".\n",
    "\n",
    "***Instalação e execução***\n",
    "\n",
    "A maneira mais simples de instalar o **Jupyter Notebook** é instalar a distribuição *Anaconda*.\n",
    "\n",
    "Para rodar o **Jupyter Notebook** basta digitar na linha de comando:\n",
    "\n",
    "`jupyter notebook`\n",
    "\n",
    "ou clicar no ícone do **Jupyter Notebook** na pasta de instalação da Anaconda. Uma aba com a pasta padrão do **Jupyter Notebook** se abrirá no navegador padrão. Para parar o **Jupyter Notebook** deve-se fechar o terminal que abriu em paralelo. Fechar apenas a aba não impede a continuidade da execução.\n",
    "\n",
    "Para criar um novo notebook, clicar em **New** (botão superior direito) e escolher qual a linguagem do novo notebook.\n"
   ]
  },
  {
   "cell_type": "code",
   "execution_count": null,
   "metadata": {},
   "outputs": [],
   "source": []
  }
 ],
 "metadata": {
  "kernelspec": {
   "display_name": "Python 3",
   "language": "python",
   "name": "python3"
  },
  "language_info": {
   "codemirror_mode": {
    "name": "ipython",
    "version": 3
   },
   "file_extension": ".py",
   "mimetype": "text/x-python",
   "name": "python",
   "nbconvert_exporter": "python",
   "pygments_lexer": "ipython3",
   "version": "3.6.4"
  }
 },
 "nbformat": 4,
 "nbformat_minor": 2
}
